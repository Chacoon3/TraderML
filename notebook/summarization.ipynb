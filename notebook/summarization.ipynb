{
 "cells": [
  {
   "cell_type": "code",
   "execution_count": 1,
   "metadata": {},
   "outputs": [
    {
     "name": "stdout",
     "output_type": "stream",
     "text": [
      "WARNING:tensorflow:From c:\\Users\\zizh3\\AppData\\Local\\Programs\\Python\\Python39\\lib\\site-packages\\keras\\src\\losses.py:2976: The name tf.losses.sparse_softmax_cross_entropy is deprecated. Please use tf.compat.v1.losses.sparse_softmax_cross_entropy instead.\n",
      "\n"
     ]
    }
   ],
   "source": [
    "from transformers import pipeline"
   ]
  },
  {
   "cell_type": "code",
   "execution_count": 14,
   "metadata": {},
   "outputs": [
    {
     "data": {
      "text/plain": [
       "'2.1.1+cu121'"
      ]
     },
     "execution_count": 14,
     "metadata": {},
     "output_type": "execute_result"
    }
   ],
   "source": [
    "import torch\n",
    "torch.__version__"
   ]
  },
  {
   "cell_type": "code",
   "execution_count": 2,
   "metadata": {},
   "outputs": [],
   "source": [
    "device= 0\n",
    "classifier = pipeline(\"text-classification\", \"mrm8488/distilroberta-finetuned-financial-news-sentiment-analysis\", device=device)\n",
    "summerizer = pipeline(\"summarization\", \"facebook/bart-large-cnn\")"
   ]
  },
  {
   "cell_type": "code",
   "execution_count": 3,
   "metadata": {},
   "outputs": [
    {
     "data": {
      "text/plain": [
       "154"
      ]
     },
     "execution_count": 3,
     "metadata": {},
     "output_type": "execute_result"
    }
   ],
   "source": [
    "import requests\n",
    "import json\n",
    "import datetime\n",
    "\n",
    "\n",
    "with open(\"credential\", \"r\") as f:\n",
    "    jsonStr = f.read()\n",
    "    creds = json.loads(jsonStr)\n",
    "\n",
    "\n",
    "def fetchNews(start:datetime.datetime, end:datetime.datetime, symbols:str, limit:int=20, include_content:bool=True, exclude_contentless:bool=True):\n",
    "    newsList = []\n",
    "    startStr = start.strftime(\"%Y-%m-%dT%H:%M:%SZ\")\n",
    "    endStr = end.strftime(\"%Y-%m-%dT%H:%M:%SZ\")\n",
    "    url = f\"https://data.alpaca.markets/v1beta1/news?start={startStr}&end={endStr}&sort=desc&symbols={symbols}&limit={limit}&include_content={include_content}&exclude_contentless={exclude_contentless}\"\n",
    "    headers = {\"accept\": \"application/json\", \"APCA-API-KEY-ID\": creds[\"alpacaPaper\"][0], \"APCA-API-SECRET-KEY\": creds[\"alpacaPaper\"][1]}\n",
    "\n",
    "    resp = requests.get(url, headers=headers)\n",
    "    if resp.status_code != 200:\n",
    "        raise Exception(f\"Failed to fetch news: {resp.status_code} {resp.text}\")\n",
    "    data = resp.json()\n",
    "    news = data.get(\"news\", [])\n",
    "    newsList.extend(news)\n",
    "    next_page_token = data.get(\"next_page_token\", None)\n",
    "    while next_page_token:\n",
    "        url = f\"https://data.alpaca.markets/v1beta1/news?start={startStr}&end={endStr}&sort=desc&symbols={symbols}&limit={limit}&include_content={include_content}&exclude_contentless={exclude_contentless}&page_token={next_page_token}\"\n",
    "        resp = requests.get(url, headers=headers)\n",
    "        if resp.status_code != 200:\n",
    "            raise Exception(f\"Failed to fetch news: {resp.status_code} {resp.text}\")\n",
    "        data = resp.json()\n",
    "        news = data.get(\"news\", [])\n",
    "        newsList.extend(news)\n",
    "        next_page_token = data.get(\"next_page_token\", None)\n",
    "    return newsList\n",
    "\n",
    "\n",
    "news = fetchNews(datetime.datetime.now()-datetime.timedelta(days=14), datetime.datetime.now(), \"NVDA\", 50, True, True)  \n",
    "len(news)"
   ]
  },
  {
   "cell_type": "code",
   "execution_count": 4,
   "metadata": {},
   "outputs": [
    {
     "data": {
      "text/plain": [
       "{'author': 'Benzinga Neuro',\n",
       " 'content': '<p><strong>Tastytrade</strong> founder <strong>Tom Sosnoff</strong> spotlighted the remarkable trading activity of <strong>Nvidia Corporation</strong> (NASDAQ:<a class=\"ticker\" href=\"https://www.benzinga.com/stock/NVDA#NASDAQ\">NVDA</a>). </p>\\n\\n\\n\\n<p><strong>What Happened</strong>: Talking to CNBC&#8217;s &#8220;Last Call,&#8221; Sosnoff described that Nvidia&#8217;s current market position has very little to do with its fundamental story.</p>\\n\\n\\n\\n<p>&#8220;You&#8217;re talking about a stock at this point, it&#8217;s a $900 stock that&#8217;s trading with penny-wide markets. The depth of liquidity today in Nvidia was off the charts. I mean it was the number one stock traded on our platform today. It just crushed everything else,&#8221; he said.</p>\\n\\n\\n\\n<p>Sosnoff also added that Nvidia will continue picking up steam with many retail customers getting attracted to the prospects. &#8220;It&#8217;s A Beast,&#8221; he said.</p>\\n\\n\\n\\n<p>&#8220;It&#8217;s almost kind of like a replacement for Tesla, what Tesla was a couple of years ago,&#8221; he added.</p>\\n\\n\\n\\n<figure class=\"wp-block-embed is-type-rich is-provider-twitter wp-block-embed-twitter\"><div class=\"wp-block-embed__wrapper\">\\n<blockquote class=\"twitter-tweet\" data-width=\"500\" data-dnt=\"true\"><p lang=\"en\" dir=\"ltr\">&quot;It&#39;s a $900 stock that&#39;s trading with penny wide markets,&quot; says <a href=\"https://twitter.com/tastytrade?ref_src=twsrc%5Etfw\">@tastytrade</a> Founder Tom Sosnoff. &quot;The depth of liquidity today in Nvidia was off the charts. I mean it was the number one stock traded on our platform today. It just crushed everything else.&quot; <a href=\"https://twitter.com/search?q=%24NVDA&amp;src=ctag&amp;ref_src=twsrc%5Etfw\">$NVDA</a> <a href=\"https://t.co/8A6Ea9WenD\">pic.twitter.com/8A6Ea9WenD</a></p>&mdash; Last Call (@LastCallCNBC) <a href=\"https://twitter.com/LastCallCNBC/status/1765899161726058576?ref_src=twsrc%5Etfw\">March 8, 2024</a></blockquote><script async src=\"https://platform.twitter.com/widgets.js\" charset=\"utf-8\"></script>\\n</div></figure>\\n\\n\\n\\n<p><em>See Also: <a href=\"https://www.benzinga.com/markets/cryptocurrency/24/03/37472637/shiba-inu-lead-developer-kusama-echoes-dot-com-era-ahead-of-key-launch-as-shib-tops-charts?itm_source=parsely-api\" target=\"_blank\" rel=\"noreferrer noopener\">Shiba Inu Lead Developer Kusama Echoes Dot Com Era Ahead Of Key Launch As SHIB Tops Charts: &#8216;Can Get Ther</a></em></p>\\n\\n\\n\\n<p><strong>Why It Matters</strong>: Nvidia&#8217;s prominence in the trading sphere is not without reason. The<strong> Jensen Huang</strong>-led giant <a href=\"https://www.benzinga.com/news/24/03/37521115/nvidia-tops-in-popularity-among-s-p-500-semiconductor-stocks-analyst-sees-room-for-growth\">continues to hold the broadest ownership</a> among fund managers, with 67% holding the stock. This is part of a broader trend where semiconductor stocks have seen a slight decline in their relative weighting in portfolios compared to their weight in the S&amp;P 500 index.</p>\\n\\n\\n\\n<p>Moreover, a recent analysis by Mizuho analyst Vijay Rakesh has <a href=\"https://www.benzinga.com/news/24/03/37542447/nvidia-amd-and-broadcom-poised-for-ai-boom-mizuho-analyst-says\">reiterated a Buy rating on Nvidia</a>, along with other semiconductor giants like <strong>Advanced Micro Devices</strong> and <strong>Broadcom Inc</strong>. Rakesh has raised the price target of Nvidia to $1,000, up from $850, in anticipation of multiple catalysts ahead, including the AI boom.</p>\\n\\n\\n\\n<p><em>Read Next: <a href=\"https://www.benzinga.com/markets/cryptocurrency/24/03/37504719/not-my-words-shiba-inus-lead-developer-lashes-out-at-media-site-over-market-cap-misquote-v?itm_source=parsely-api\" target=\"_blank\" rel=\"noreferrer noopener\">Shiba Inu Lead Developer Denies Report Of &#8216;$100B Market&#8217; Prediction: &#8216;Not My Words&#8217;</a></em></p>\\n\\n\\n\\n<p><em>Image via Shutterstock</em></p>\\n\\n\\n\\n<div style=\"font-family: \\'Lato\\', sans-serif\">\\n    <div>\\n        <hr style=\"border: 0;height: 5px;background: #225aa9\">\\n        <div style=\"background-color: #f5f5f5;background-position: center;background-size: cover;justify-content: center\"></div>\\n        <p style=\"font-family: sans-serif;padding-top: 20px\">\\n            Engineered by <span style=\"font-weight: bold;text-decoration: none;color: #225aa9;font-size: 1rem\">Benzinga Neuro</span>, Edited by <span style=\"font-weight: bold;text-decoration: none;color: #225aa9;font-size: 1rem\">\\n                <u><a href=\"https://www.benzinga.com/topic/Pooja-Rajkumari\" target=\"_blank\" rel=\"noopener\" style=\"color: #225aa9;text-decoration: none\">Pooja Rajkumari</a></u>\\n            </span>\\n        </p>\\n        <hr style=\"border: 0;height: 1px;background: #225aa9\">\\n        <p style=\"font-family: sans-serif;padding-top: 20px\">\\n            The GPT-4-based Benzinga Neuro content generation system exploits the extensive Benzinga Ecosystem, including native data, APIs, and more to create comprehensive and timely stories for you.\\n            <a href=\"https://www.benzinga.com/author/benzinga-neuro\" target=\"_blank\" rel=\"noopener\" style=\"color: #225aa9;text-decoration: none\">Learn more.</a>\\n        </p>\\n        <hr style=\"border: 0;height: 5px;background: #225aa9\">\\n    </div>\\n</div>',\n",
       " 'created_at': '2024-03-08T08:17:39Z',\n",
       " 'headline': \"Nvidia Stock Is 'Almost Like A Replacement For Tesla,' Says Tastytrade's Tom Sosnoff: 'It's A Beast'\",\n",
       " 'id': 37553538,\n",
       " 'images': [{'size': 'large',\n",
       "   'url': 'https://cdn.benzinga.com/files/imagecache/2048x1536xUP/images/story/2024/nvidia-shutter8_1.jpeg'},\n",
       "  {'size': 'small',\n",
       "   'url': 'https://cdn.benzinga.com/files/imagecache/1024x768xUP/images/story/2024/nvidia-shutter8_1.jpeg'},\n",
       "  {'size': 'thumb',\n",
       "   'url': 'https://cdn.benzinga.com/files/imagecache/250x187xUP/images/story/2024/nvidia-shutter8_1.jpeg'}],\n",
       " 'source': 'benzinga',\n",
       " 'summary': 'Sosnoff also added that Nvidia will continue picking up steam with many retail customers getting attracted to the prospects. ',\n",
       " 'symbols': ['AMD', 'AVGO', 'NVDA'],\n",
       " 'updated_at': '2024-03-08T08:17:40Z',\n",
       " 'url': 'https://www.benzinga.com/markets/equities/24/03/37553538/nvidia-stock-is-almost-like-a-replacement-for-tesla-says-tastytrades-tom-sosnoff-its-a-beast'}"
      ]
     },
     "execution_count": 4,
     "metadata": {},
     "output_type": "execute_result"
    }
   ],
   "source": [
    "news[0]"
   ]
  },
  {
   "cell_type": "code",
   "execution_count": 5,
   "metadata": {},
   "outputs": [],
   "source": [
    "import regex as re\n",
    "\n",
    "htmlElement = re.compile(r\"<.*?>\")\n",
    "def preprocessTexts(text):\n",
    "    # remove html elements\n",
    "    processed = re.sub(htmlElement, \"\", text)\n",
    "    # remove spaces\n",
    "    processed = re.sub(r\"\\s+\", \" \", processed)\n",
    "    # replace special characters\n",
    "    processed = re.sub(r\"&#[0-9]+;\", \" \", processed)\n",
    "    return processed\n",
    "\n",
    "\n",
    "simpleNews = [{\n",
    "    \"id\": n[\"id\"],\n",
    "    \"title\": n[\"headline\"],\n",
    "    \"content\": preprocessTexts(n[\"content\"]),\n",
    "    \"summary\":n[\"summary\"],\n",
    "    \"time\": n[\"created_at\"],\n",
    "    \"source\": n[\"source\"],\n",
    "    \"symbols\": n[\"symbols\"],\n",
    "} for n in news]"
   ]
  },
  {
   "cell_type": "code",
   "execution_count": 8,
   "metadata": {},
   "outputs": [
    {
     "name": "stderr",
     "output_type": "stream",
     "text": [
      "c:\\Users\\zizh3\\AppData\\Local\\Programs\\Python\\Python39\\lib\\site-packages\\transformers\\pipelines\\text_classification.py:104: UserWarning: `return_all_scores` is now deprecated,  if want a similar functionality use `top_k=None` instead of `return_all_scores=True` or `top_k=1` instead of `return_all_scores=False`.\n",
      "  warnings.warn(\n"
     ]
    },
    {
     "data": {
      "text/plain": [
       "[[{'label': 'negative', 'score': 0.00022091210121288896},\n",
       "  {'label': 'neutral', 'score': 0.00011859311780426651},\n",
       "  {'label': 'positive', 'score': 0.9996604919433594}]]"
      ]
     },
     "execution_count": 8,
     "metadata": {},
     "output_type": "execute_result"
    }
   ],
   "source": [
    "classifier(simpleNews[0][\"summary\"], return_all_scores=True)"
   ]
  },
  {
   "cell_type": "code",
   "execution_count": 9,
   "metadata": {},
   "outputs": [
    {
     "data": {
      "text/plain": [
       "[{'summary_text': 'Tastytrade founder Tom Sosnoff spotlighted the remarkable trading activity of Nvidia Corporation (NASDAQ:NVDA) He described that Nvidia s current market position has very little to do with its fundamental story. He added that Nvidia will continue picking up steam with many retail customers getting attracted to the prospects.'}]"
      ]
     },
     "execution_count": 9,
     "metadata": {},
     "output_type": "execute_result"
    }
   ],
   "source": [
    "summerizer(simpleNews[0][\"content\"])"
   ]
  },
  {
   "cell_type": "code",
   "execution_count": 6,
   "metadata": {},
   "outputs": [],
   "source": [
    "noSummaryNews = [n for n in simpleNews if n.get(\"summary\", None) is None or len(n[\"summary\"].strip()) == 0]"
   ]
  },
  {
   "cell_type": "code",
   "execution_count": 9,
   "metadata": {},
   "outputs": [
    {
     "data": {
      "text/plain": [
       "<Axes: >"
      ]
     },
     "execution_count": 9,
     "metadata": {},
     "output_type": "execute_result"
    },
    {
     "data": {
      "image/png": "[encoded data removed]",
      "text/plain": [
       "<Figure size 640x480 with 1 Axes>"
      ]
     },
     "metadata": {},
     "output_type": "display_data"
    }
   ],
   "source": [
    "import seaborn as sns\n",
    "import matplotlib.pyplot as plt\n",
    "import pandas as pd\n",
    "\n",
    "\n",
    "tokenLength = [len(n[\"content\"].split()) for n in simpleNews]\n",
    "sns.boxplot(tokenLength)"
   ]
  },
  {
   "cell_type": "code",
   "execution_count": 10,
   "metadata": {},
   "outputs": [
    {
     "name": "stderr",
     "output_type": "stream",
     "text": [
      "c:\\Users\\zizh3\\AppData\\Local\\Programs\\Python\\Python39\\lib\\site-packages\\transformers\\pipelines\\text_classification.py:104: UserWarning: `return_all_scores` is now deprecated,  if want a similar functionality use `top_k=None` instead of `return_all_scores=True` or `top_k=1` instead of `return_all_scores=False`.\n",
      "  warnings.warn(\n"
     ]
    }
   ],
   "source": [
    "scores = classifier([\n",
    "    n[\"summary\"] for n in simpleNews\n",
    "], return_all_scores=True)"
   ]
  },
  {
   "cell_type": "code",
   "execution_count": 11,
   "metadata": {},
   "outputs": [
    {
     "data": {
      "text/html": [
       "<div>\n",
       "<style scoped>\n",
       "    .dataframe tbody tr th:only-of-type {\n",
       "        vertical-align: middle;\n",
       "    }\n",
       "\n",
       "    .dataframe tbody tr th {\n",
       "        vertical-align: top;\n",
       "    }\n",
       "\n",
       "    .dataframe thead th {\n",
       "        text-align: right;\n",
       "    }\n",
       "</style>\n",
       "<table border=\"1\" class=\"dataframe\">\n",
       "  <thead>\n",
       "    <tr style=\"text-align: right;\">\n",
       "      <th></th>\n",
       "      <th>negative</th>\n",
       "      <th>neutral</th>\n",
       "      <th>positive</th>\n",
       "      <th>label</th>\n",
       "      <th>time</th>\n",
       "      <th>summary</th>\n",
       "      <th>content</th>\n",
       "      <th>symbols</th>\n",
       "      <th>relative_weight</th>\n",
       "      <th>source</th>\n",
       "    </tr>\n",
       "  </thead>\n",
       "  <tbody>\n",
       "    <tr>\n",
       "      <th>0</th>\n",
       "      <td>0.000208</td>\n",
       "      <td>0.000127</td>\n",
       "      <td>0.999665</td>\n",
       "      <td>positive</td>\n",
       "      <td>2024-03-07T21:30:30Z</td>\n",
       "      <td>Gold miners outperform semiconductor industry ...</td>\n",
       "      <td>If someone were to tell you that NVIDIA Corp. ...</td>\n",
       "      <td>[AU, CDE, DRD, GDX, GSISF, NVDA, OCANF, PMNXF,...</td>\n",
       "      <td>0.100000</td>\n",
       "      <td>benzinga</td>\n",
       "    </tr>\n",
       "    <tr>\n",
       "      <th>1</th>\n",
       "      <td>0.000190</td>\n",
       "      <td>0.000107</td>\n",
       "      <td>0.999703</td>\n",
       "      <td>positive</td>\n",
       "      <td>2024-03-07T20:20:02Z</td>\n",
       "      <td>Nvidia has gained more than $1 trillion in mar...</td>\n",
       "      <td>We ve written a lot over the past months — as ...</td>\n",
       "      <td>[AAPL, NVDA, TSLA]</td>\n",
       "      <td>0.333333</td>\n",
       "      <td>benzinga</td>\n",
       "    </tr>\n",
       "    <tr>\n",
       "      <th>2</th>\n",
       "      <td>0.001164</td>\n",
       "      <td>0.078514</td>\n",
       "      <td>0.920322</td>\n",
       "      <td>positive</td>\n",
       "      <td>2024-03-07T19:44:44Z</td>\n",
       "      <td>To gain an edge, this is what you need to know...</td>\n",
       "      <td>To gain an edge, this is what you need to know...</td>\n",
       "      <td>[AAPL, AMZN, BTCUSD, GLD, GOOG, META, MSFT, NV...</td>\n",
       "      <td>0.076923</td>\n",
       "      <td>benzinga</td>\n",
       "    </tr>\n",
       "    <tr>\n",
       "      <th>3</th>\n",
       "      <td>0.000203</td>\n",
       "      <td>0.000251</td>\n",
       "      <td>0.999546</td>\n",
       "      <td>positive</td>\n",
       "      <td>2024-03-07T18:32:36Z</td>\n",
       "      <td>The S&amp;amp;P 500 soared past the 5,150-point ma...</td>\n",
       "      <td>The S&amp;amp;P 500 soared past the 5,150-point ma...</td>\n",
       "      <td>[ABM, AEO, AGR, AVGO, BBAI, BILI, BJ, BTCUSD, ...</td>\n",
       "      <td>0.030303</td>\n",
       "      <td>benzinga</td>\n",
       "    </tr>\n",
       "    <tr>\n",
       "      <th>4</th>\n",
       "      <td>0.000218</td>\n",
       "      <td>0.000089</td>\n",
       "      <td>0.999693</td>\n",
       "      <td>positive</td>\n",
       "      <td>2024-03-07T18:22:18Z</td>\n",
       "      <td>Analyst Vijay Rakesh reiterated Buy ratings on...</td>\n",
       "      <td>Mizuho&amp;nbsp;analyst Vijay Rakesh reiterated a ...</td>\n",
       "      <td>[AMD, ARM, AVGO, BOTZ, INTC, NVDA, SMH]</td>\n",
       "      <td>0.142857</td>\n",
       "      <td>benzinga</td>\n",
       "    </tr>\n",
       "  </tbody>\n",
       "</table>\n",
       "</div>"
      ],
      "text/plain": [
       "   negative   neutral  positive     label                  time  \\\n",
       "0  0.000208  0.000127  0.999665  positive  2024-03-07T21:30:30Z   \n",
       "1  0.000190  0.000107  0.999703  positive  2024-03-07T20:20:02Z   \n",
       "2  0.001164  0.078514  0.920322  positive  2024-03-07T19:44:44Z   \n",
       "3  0.000203  0.000251  0.999546  positive  2024-03-07T18:32:36Z   \n",
       "4  0.000218  0.000089  0.999693  positive  2024-03-07T18:22:18Z   \n",
       "\n",
       "                                             summary  \\\n",
       "0  Gold miners outperform semiconductor industry ...   \n",
       "1  Nvidia has gained more than $1 trillion in mar...   \n",
       "2  To gain an edge, this is what you need to know...   \n",
       "3  The S&amp;P 500 soared past the 5,150-point ma...   \n",
       "4  Analyst Vijay Rakesh reiterated Buy ratings on...   \n",
       "\n",
       "                                             content  \\\n",
       "0  If someone were to tell you that NVIDIA Corp. ...   \n",
       "1  We ve written a lot over the past months — as ...   \n",
       "2  To gain an edge, this is what you need to know...   \n",
       "3  The S&amp;P 500 soared past the 5,150-point ma...   \n",
       "4  Mizuho&nbsp;analyst Vijay Rakesh reiterated a ...   \n",
       "\n",
       "                                             symbols  relative_weight  \\\n",
       "0  [AU, CDE, DRD, GDX, GSISF, NVDA, OCANF, PMNXF,...         0.100000   \n",
       "1                                 [AAPL, NVDA, TSLA]         0.333333   \n",
       "2  [AAPL, AMZN, BTCUSD, GLD, GOOG, META, MSFT, NV...         0.076923   \n",
       "3  [ABM, AEO, AGR, AVGO, BBAI, BILI, BJ, BTCUSD, ...         0.030303   \n",
       "4            [AMD, ARM, AVGO, BOTZ, INTC, NVDA, SMH]         0.142857   \n",
       "\n",
       "     source  \n",
       "0  benzinga  \n",
       "1  benzinga  \n",
       "2  benzinga  \n",
       "3  benzinga  \n",
       "4  benzinga  "
      ]
     },
     "execution_count": 11,
     "metadata": {},
     "output_type": "execute_result"
    }
   ],
   "source": [
    "processedScores = [\n",
    "    {\n",
    "        \"negative\": s[0][\"score\"],\n",
    "        \"neutral\": s[1][\"score\"],\n",
    "        \"positive\": s[2][\"score\"],\n",
    "        \"label\": \"positive\" if s[2][\"score\"] > s[0][\"score\"] else \"negative\" if s[0][\"score\"] > s[2][\"score\"] else \"neutral\",\n",
    "    } for s in scores\n",
    "]\n",
    "\n",
    "df = pd.DataFrame(processedScores)\n",
    "df[\"time\"] = [n[\"time\"] for n in simpleNews]\n",
    "df[\"summary\"] = [n[\"summary\"] for n in simpleNews]\n",
    "df[\"content\"] = [n[\"content\"] for n in simpleNews]\n",
    "df[\"symbols\"] = [n[\"symbols\"] for n in simpleNews]\n",
    "df[\"relative_weight\"] = [1/len(n[\"symbols\"]) for n in simpleNews]\n",
    "df[\"source\"] = [n[\"source\"] for n in simpleNews]\n",
    "df.head()"
   ]
  },
  {
   "cell_type": "code",
   "execution_count": 12,
   "metadata": {},
   "outputs": [
    {
     "data": {
      "text/plain": [
       "<Axes: >"
      ]
     },
     "execution_count": 12,
     "metadata": {},
     "output_type": "execute_result"
    },
    {
     "data": {
      "image/png": "[encoded data removed]",
      "text/plain": [
       "<Figure size 640x480 with 1 Axes>"
      ]
     },
     "metadata": {},
     "output_type": "display_data"
    }
   ],
   "source": [
    "df.relative_weight.plot.box()"
   ]
  },
  {
   "cell_type": "code",
   "execution_count": 13,
   "metadata": {},
   "outputs": [],
   "source": [
    "df.to_csv(\"news.csv\", index=False)"
   ]
  }
 ],
 "metadata": {
  "kernelspec": {
   "display_name": "Python 3",
   "language": "python",
   "name": "python3"
  },
  "language_info": {
   "codemirror_mode": {
    "name": "ipython",
    "version": 3
   },
   "file_extension": ".py",
   "mimetype": "text/x-python",
   "name": "python",
   "nbconvert_exporter": "python",
   "pygments_lexer": "ipython3",
   "version": "3.9.2"
  },
  "orig_nbformat": 4
 },
 "nbformat": 4,
 "nbformat_minor": 2
}
