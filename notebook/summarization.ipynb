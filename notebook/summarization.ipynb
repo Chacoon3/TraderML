{
 "cells": [
  {
   "cell_type": "code",
   "execution_count": 1,
   "metadata": {},
   "outputs": [
    {
     "name": "stdout",
     "output_type": "stream",
     "text": [
      "WARNING:tensorflow:From c:\\Users\\zizh3\\AppData\\Local\\Programs\\Python\\Python39\\lib\\site-packages\\keras\\src\\losses.py:2976: The name tf.losses.sparse_softmax_cross_entropy is deprecated. Please use tf.compat.v1.losses.sparse_softmax_cross_entropy instead.\n",
      "\n"
     ]
    },
    {
     "name": "stderr",
     "output_type": "stream",
     "text": [
      "c:\\Users\\zizh3\\AppData\\Local\\Programs\\Python\\Python39\\lib\\site-packages\\torch\\_utils.py:831: UserWarning: TypedStorage is deprecated. It will be removed in the future and UntypedStorage will be the only storage class. This should only matter to you if you are using storages directly.  To access UntypedStorage directly, use tensor.untyped_storage() instead of tensor.storage()\n",
      "  return self.fget.__get__(instance, owner)()\n",
      "Some weights of the model checkpoint at cardiffnlp/twitter-roberta-base-sentiment-latest were not used when initializing RobertaForSequenceClassification: ['roberta.pooler.dense.bias', 'roberta.pooler.dense.weight']\n",
      "- This IS expected if you are initializing RobertaForSequenceClassification from the checkpoint of a model trained on another task or with another architecture (e.g. initializing a BertForSequenceClassification model from a BertForPreTraining model).\n",
      "- This IS NOT expected if you are initializing RobertaForSequenceClassification from the checkpoint of a model that you expect to be exactly identical (initializing a BertForSequenceClassification model from a BertForSequenceClassification model).\n",
      "c:\\Users\\zizh3\\AppData\\Local\\Programs\\Python\\Python39\\lib\\site-packages\\transformers\\pipelines\\text_classification.py:104: UserWarning: `return_all_scores` is now deprecated,  if want a similar functionality use `top_k=None` instead of `return_all_scores=True` or `top_k=1` instead of `return_all_scores=False`.\n",
      "  warnings.warn(\n"
     ]
    }
   ],
   "source": [
    "from transformers import pipeline, AutoTokenizer\n",
    "from datasets import Dataset\n",
    "\n",
    "twitter = \"cardiffnlp/twitter-roberta-base-sentiment-latest\"\n",
    "financial = \"mrm8488/distilroberta-finetuned-financial-news-sentiment-analysis\"\n",
    "\n",
    "classifierConfig = dict(\n",
    "    task = \"text-classification\",\n",
    "    model = twitter,\n",
    "    device = \"cuda\",\n",
    "    truncation = True,\n",
    "    max_length = 512,\n",
    "    return_all_scores = True\n",
    ")\n",
    "\n",
    "summarizerConfig = dict(\n",
    "    task = \"summarization\",\n",
    "    model = \"facebook/bart-large-cnn\",\n",
    "    device = \"cuda\",\n",
    "    do_sample = True,\n",
    "    truncation = False,\n",
    "    num_beams = 2,\n",
    "    num_return_sequences = 1\n",
    ")\n",
    "\n",
    "classifier = pipeline(**classifierConfig)\n",
    "tokenizerClassifier =AutoTokenizer.from_pretrained(twitter, device=\"cuda\")\n",
    "summarizer = pipeline(**summarizerConfig)"
   ]
  },
  {
   "cell_type": "code",
   "execution_count": 2,
   "metadata": {},
   "outputs": [
    {
     "data": {
      "text/plain": [
       "82"
      ]
     },
     "execution_count": 2,
     "metadata": {},
     "output_type": "execute_result"
    }
   ],
   "source": [
    "import requests\n",
    "import json\n",
    "import datetime\n",
    "\n",
    "\n",
    "with open(\"credential\", \"r\") as f:\n",
    "    jsonStr = f.read()\n",
    "    creds = json.loads(jsonStr)\n",
    "\n",
    "\n",
    "def fetchNews(start:datetime.datetime, end:datetime.datetime, symbols:str, limit:int=20, include_content:bool=True, exclude_contentless:bool=True):\n",
    "    newsList = []\n",
    "    startStr = start.strftime(\"%Y-%m-%dT%H:%M:%SZ\")\n",
    "    endStr = end.strftime(\"%Y-%m-%dT%H:%M:%SZ\")\n",
    "    url = f\"https://data.alpaca.markets/v1beta1/news?start={startStr}&end={endStr}&sort=desc&symbols={symbols}&limit={limit}&include_content={include_content}&exclude_contentless={exclude_contentless}\"\n",
    "    headers = {\"accept\": \"application/json\", \"APCA-API-KEY-ID\": creds[\"alpacaPaper\"][0], \"APCA-API-SECRET-KEY\": creds[\"alpacaPaper\"][1]}\n",
    "\n",
    "    resp = requests.get(url, headers=headers)\n",
    "    if resp.status_code != 200:\n",
    "        raise Exception(f\"Failed to fetch news: {resp.status_code} {resp.text}\")\n",
    "    data = resp.json()\n",
    "    news = data.get(\"news\", [])\n",
    "    newsList.extend(news)\n",
    "    next_page_token = data.get(\"next_page_token\", None)\n",
    "    while next_page_token:\n",
    "        url = f\"https://data.alpaca.markets/v1beta1/news?start={startStr}&end={endStr}&sort=desc&symbols={symbols}&limit={limit}&include_content={include_content}&exclude_contentless={exclude_contentless}&page_token={next_page_token}\"\n",
    "        resp = requests.get(url, headers=headers)\n",
    "        if resp.status_code != 200:\n",
    "            raise Exception(f\"Failed to fetch news: {resp.status_code} {resp.text}\")\n",
    "        data = resp.json()\n",
    "        news = data.get(\"news\", [])\n",
    "        newsList.extend(news)\n",
    "        next_page_token = data.get(\"next_page_token\", None)\n",
    "    return newsList\n",
    "\n",
    "\n",
    "news = fetchNews(datetime.datetime.now()-datetime.timedelta(days=7), datetime.datetime.now(), \"NVDA\", 50, True, True)  \n",
    "len(news)"
   ]
  },
  {
   "cell_type": "code",
   "execution_count": 3,
   "metadata": {},
   "outputs": [
    {
     "data": {
      "text/plain": [
       "{'author': 'Benzinga Insights',\n",
       " 'content': '<p>This whale alert can help traders discover the next big trading opportunities.</p>\\n<p>Whales are entities with large sums of money and we track their transactions here at Benzinga on our options activity scanner.</p>\\n<p>Traders will search for circumstances when the market estimation of an option diverges heavily from its normal worth. High amounts of trading activity could push option prices to exaggerated or underestimated levels. </p>\\n<p>Below are some instances of options activity happening in the Information Technology sector:  <table>\\n<thead>\\n<tr>\\n<th><strong>Symbol</strong></th>\\n<th><strong>PUT/CALL</strong></th>\\n<th><strong>Trade Type</strong></th>\\n<th><strong>Sentiment</strong></th>\\n<th><strong>Exp. Date</strong></th>\\n<th><strong>Strike Price</strong></th>\\n<th><strong>Total Trade Price</strong></th>\\n<th><strong>Open Interest</strong></th>\\n<th><strong>Volume</strong></th>\\n</tr>\\n</thead>\\n<tbody>\\n<tr>\\n<td>NVDA</td>\\n<td>CALL</td>\\n<td>TRADE</td>\\n<td>BULLISH</td>\\n<td>03/15/24</td>\\n<td>$900.00</td>\\n<td>$47.1K</td>\\n<td>22.1K</td>\\n<td>60.3K</td>\\n</tr>\\n<tr>\\n<td>AMD</td>\\n<td>CALL</td>\\n<td>SWEEP</td>\\n<td>BEARISH</td>\\n<td>03/15/24</td>\\n<td>$197.50</td>\\n<td>$28.8K</td>\\n<td>4.3K</td>\\n<td>21.2K</td>\\n</tr>\\n<tr>\\n<td>SMCI</td>\\n<td>CALL</td>\\n<td>SWEEP</td>\\n<td>BEARISH</td>\\n<td>03/15/24</td>\\n<td>$1200.00</td>\\n<td>$77.6K</td>\\n<td>5.6K</td>\\n<td>7.6K</td>\\n</tr>\\n<tr>\\n<td>SOUN</td>\\n<td>CALL</td>\\n<td>TRADE</td>\\n<td>BEARISH</td>\\n<td>07/19/24</td>\\n<td>$8.00</td>\\n<td>$34.8K</td>\\n<td>2.6K</td>\\n<td>2.1K</td>\\n</tr>\\n<tr>\\n<td>CORZ</td>\\n<td>CALL</td>\\n<td>SWEEP</td>\\n<td>BULLISH</td>\\n<td>01/17/25</td>\\n<td>$7.00</td>\\n<td>$32.0K</td>\\n<td>4.1K</td>\\n<td>1.6K</td>\\n</tr>\\n<tr>\\n<td>INTC</td>\\n<td>PUT</td>\\n<td>SWEEP</td>\\n<td>BEARISH</td>\\n<td>01/17/25</td>\\n<td>$40.00</td>\\n<td>$31.0K</td>\\n<td>16.7K</td>\\n<td>1.5K</td>\\n</tr>\\n<tr>\\n<td>MARA</td>\\n<td>CALL</td>\\n<td>TRADE</td>\\n<td>BEARISH</td>\\n<td>01/17/25</td>\\n<td>$30.00</td>\\n<td>$68.7K</td>\\n<td>13.2K</td>\\n<td>1.2K</td>\\n</tr>\\n<tr>\\n<td>PANW</td>\\n<td>PUT</td>\\n<td>SWEEP</td>\\n<td>BEARISH</td>\\n<td>03/21/25</td>\\n<td>$230.00</td>\\n<td>$172.7K</td>\\n<td>53</td>\\n<td>989</td>\\n</tr>\\n<tr>\\n<td>AI</td>\\n<td>PUT</td>\\n<td>TRADE</td>\\n<td>BULLISH</td>\\n<td>10/18/24</td>\\n<td>$20.00</td>\\n<td>$145.6K</td>\\n<td>7</td>\\n<td>800</td>\\n</tr>\\n<tr>\\n<td>TSM</td>\\n<td>CALL</td>\\n<td>SWEEP</td>\\n<td>BULLISH</td>\\n<td>04/19/24</td>\\n<td>$145.00</td>\\n<td>$26.2K</td>\\n<td>11.7K</td>\\n<td>773</td>\\n</tr>\\n</tbody>\\n</table></p>\\n<h2>Explanation</h2>\\n<p>These itemized elaborations have been created using the accompanying table.  </p>\\n<p>•  For <strong>NVDA</strong> (NASDAQ:<a class=\"ticker\" href=\"https://www.benzinga.com/stock/NVDA#NASDAQ\">NVDA</a>), we notice a <strong>call</strong> option <strong>trade</strong> that happens to be <strong>bullish</strong>, expiring in 2 day(s) on <strong>March 15, 2024</strong>. This event was a transfer of <strong>22</strong> contract(s) at a <strong>$900.00</strong> strike. The total cost received by the writing party (or parties) was <strong>$47.1K</strong>, with a price of <strong>$2145.0</strong> per contract. There were <strong>22177</strong> open contracts at this strike prior to today, and today <strong>60377</strong> contract(s) were bought and sold. </p>\\n<p>•  For <strong>AMD</strong> (NASDAQ:<a class=\"ticker\" href=\"https://www.benzinga.com/stock/AMD#NASDAQ\">AMD</a>), we notice a <strong>call</strong> option <strong>sweep</strong> that happens to be <strong>bearish</strong>, expiring in 2 day(s) on <strong>March 15, 2024</strong>. This event was a transfer of <strong>97</strong> contract(s) at a <strong>$197.50</strong> strike. This particular call needed to be split into 9 different trades to become filled. The total cost received by the writing party (or parties) was <strong>$28.8K</strong>, with a price of <strong>$297.0</strong> per contract. There were <strong>4399</strong> open contracts at this strike prior to today, and today <strong>21249</strong> contract(s) were bought and sold. </p>\\n<p>•  For <strong>SMCI</strong> (NASDAQ:<a class=\"ticker\" href=\"https://www.benzinga.com/stock/SMCI#NASDAQ\">SMCI</a>), we notice a <strong>call</strong> option <strong>sweep</strong> that happens to be <strong>bearish</strong>, expiring in 2 day(s) on <strong>March 15, 2024</strong>. This event was a transfer of <strong>26</strong> contract(s) at a <strong>$1200.00</strong> strike. This particular call needed to be split into 20 different trades to become filled. The total cost received by the writing party (or parties) was <strong>$77.6K</strong>, with a price of <strong>$2970.0</strong> per contract. There were <strong>5685</strong> open contracts at this strike prior to today, and today <strong>7694</strong> contract(s) were bought and sold. </p>\\n<p>•  Regarding <strong>SOUN</strong> (NASDAQ:<a class=\"ticker\" href=\"https://www.benzinga.com/stock/SOUN#NASDAQ\">SOUN</a>), we observe a <strong>call</strong> option <strong>trade</strong> with <strong>bearish</strong> sentiment. It expires in 128 day(s) on <strong>July 19, 2024</strong>. Parties traded <strong>162</strong> contract(s) at a <strong>$8.00</strong> strike. The total cost received by the writing party (or parties) was <strong>$34.8K</strong>, with a price of <strong>$215.0</strong> per contract. There were <strong>2604</strong> open contracts at this strike prior to today, and today <strong>2121</strong> contract(s) were bought and sold. </p>\\n<p>•  For <strong>CORZ</strong> (NASDAQ:<a class=\"ticker\" href=\"https://www.benzinga.com/stock/CORZ#NASDAQ\">CORZ</a>), we notice a <strong>call</strong> option <strong>sweep</strong> that happens to be <strong>bullish</strong>, expiring in 310 day(s) on <strong>January 17, 2025</strong>. This event was a transfer of <strong>400</strong> contract(s) at a <strong>$7.00</strong> strike. This particular call needed to be split into 5 different trades to become filled. The total cost received by the writing party (or parties) was <strong>$32.0K</strong>, with a price of <strong>$80.0</strong> per contract. There were <strong>4168</strong> open contracts at this strike prior to today, and today <strong>1652</strong> contract(s) were bought and sold. </p>\\n<p>•  Regarding <strong>INTC</strong> (NASDAQ:<a class=\"ticker\" href=\"https://www.benzinga.com/stock/INTC#NASDAQ\">INTC</a>), we observe a <strong>put</strong> option <strong>sweep</strong> with <strong>bearish</strong> sentiment. It expires in 310 day(s) on <strong>January 17, 2025</strong>. Parties traded <strong>85</strong> contract(s) at a <strong>$40.00</strong> strike. This particular put needed to be split into 9 different trades to become filled. The total cost received by the writing party (or parties) was <strong>$31.0K</strong>, with a price of <strong>$365.0</strong> per contract. There were <strong>16738</strong> open contracts at this strike prior to today, and today <strong>1512</strong> contract(s) were bought and sold. </p>\\n<p>•  For <strong>MARA</strong> (NASDAQ:<a class=\"ticker\" href=\"https://www.benzinga.com/stock/MARA#NASDAQ\">MARA</a>), we notice a <strong>call</strong> option <strong>trade</strong> that happens to be <strong>bearish</strong>, expiring in 310 day(s) on <strong>January 17, 2025</strong>. This event was a transfer of <strong>100</strong> contract(s) at a <strong>$30.00</strong> strike. The total cost received by the writing party (or parties) was <strong>$68.7K</strong>, with a price of <strong>$687.0</strong> per contract. There were <strong>13277</strong> open contracts at this strike prior to today, and today <strong>1267</strong> contract(s) were bought and sold. </p>\\n<p>•  For <strong>PANW</strong> (NASDAQ:<a class=\"ticker\" href=\"https://www.benzinga.com/stock/PANW#NASDAQ\">PANW</a>), we notice a <strong>put</strong> option <strong>sweep</strong> that happens to be <strong>bearish</strong>, expiring in 373 day(s) on <strong>March 21, 2025</strong>. This event was a transfer of <strong>110</strong> contract(s) at a <strong>$230.00</strong> strike. This particular put needed to be split into 19 different trades to become filled. The total cost received by the writing party (or parties) was <strong>$172.7K</strong>, with a price of <strong>$1570.0</strong> per contract. There were <strong>53</strong> open contracts at this strike prior to today, and today <strong>989</strong> contract(s) were bought and sold. </p>\\n<p>•  Regarding <strong>AI</strong> (NYSE:<a class=\"ticker\" href=\"https://www.benzinga.com/stock/AI#NYSE\">AI</a>), we observe a <strong>put</strong> option <strong>trade</strong> with <strong>bullish</strong> sentiment. It expires in 219 day(s) on <strong>October 18, 2024</strong>. Parties traded <strong>800</strong> contract(s) at a <strong>$20.00</strong> strike. The total cost received by the writing party (or parties) was <strong>$145.6K</strong>, with a price of <strong>$182.0</strong> per contract. There were <strong>7</strong> open contracts at this strike prior to today, and today <strong>800</strong> contract(s) were bought and sold. </p>\\n<p>•  For <strong>TSM</strong> (NYSE:<a class=\"ticker\" href=\"https://www.benzinga.com/stock/TSM#NYSE\">TSM</a>), we notice a <strong>call</strong> option <strong>sweep</strong> that happens to be <strong>bullish</strong>, expiring in 37 day(s) on <strong>April 19, 2024</strong>. This event was a transfer of <strong>35</strong> contract(s) at a <strong>$145.00</strong> strike. This particular call needed to be split into 3 different trades to become filled. The total cost received by the writing party (or parties) was <strong>$26.2K</strong>, with a price of <strong>$749.0</strong> per contract. There were <strong>11797</strong> open contracts at this strike prior to today, and today <strong>773</strong> contract(s) were bought and sold. </p>\\n<p><strong>Options Alert Terminology</strong><br />\\n - <strong>Call Contracts:</strong> The right to buy shares as indicated in the contract.<br />\\n - <strong>Put Contracts:</strong> The right to sell shares as indicated in the contract.<br />\\n - <strong>Expiration Date:</strong> When the contract expires. One must act on the contract by this date if one wants to use it.<br />\\n - <strong>Premium/Option Price:</strong> The price of the contract.  </p>\\n<p>For more information, visit our <em><a href=\"https://pro.benzinga.com/blog/how-to-understand-option-alerts/\">Guide to Understanding Options Alerts</a></em> or read <a href=\"https://www.benzinga.com/markets/options\">more about unusual options activity</a>.  </p>\\n<p>This article was generated by Benzinga\\'s automated content engine and reviewed by an editor.</p>',\n",
       " 'created_at': '2024-03-13T17:35:17Z',\n",
       " 'headline': \"10 Information Technology Stocks With Whale Alerts In Today's Session\",\n",
       " 'id': 37670631,\n",
       " 'images': [{'size': 'large',\n",
       "   'url': 'https://cdn.benzinga.com/files/imagecache/2048x1536xUP/images/story/2023/options_image_2.jpeg'},\n",
       "  {'size': 'small',\n",
       "   'url': 'https://cdn.benzinga.com/files/imagecache/1024x768xUP/images/story/2023/options_image_2.jpeg'},\n",
       "  {'size': 'thumb',\n",
       "   'url': 'https://cdn.benzinga.com/files/imagecache/250x187xUP/images/story/2023/options_image_2.jpeg'}],\n",
       " 'source': 'benzinga',\n",
       " 'summary': ' ',\n",
       " 'symbols': ['AI',\n",
       "  'AMD',\n",
       "  'CORZ',\n",
       "  'INTC',\n",
       "  'MARA',\n",
       "  'NVDA',\n",
       "  'PANW',\n",
       "  'SMCI',\n",
       "  'SOUN',\n",
       "  'TSM'],\n",
       " 'updated_at': '2024-03-13T17:35:18Z',\n",
       " 'url': 'https://www.benzinga.com/insights/options/24/03/37670631/10-information-technology-stocks-with-whale-alerts-in-todays-session'}"
      ]
     },
     "execution_count": 3,
     "metadata": {},
     "output_type": "execute_result"
    }
   ],
   "source": [
    "news[0]"
   ]
  },
  {
   "cell_type": "code",
   "execution_count": 4,
   "metadata": {},
   "outputs": [
    {
     "data": {
      "text/plain": [
       "(3750, 815, 1204)"
      ]
     },
     "execution_count": 4,
     "metadata": {},
     "output_type": "execute_result"
    }
   ],
   "source": [
    "len(tokenizerClassifier(news[0][\"content\"])[\"input_ids\"]), len(tokenizerClassifier(news[1][\"content\"])[\"input_ids\"]), len(tokenizerClassifier(news[2][\"content\"])[\"input_ids\"])"
   ]
  },
  {
   "cell_type": "code",
   "execution_count": 5,
   "metadata": {},
   "outputs": [
    {
     "data": {
      "text/plain": [
       "[{'summary_text': 'Psychedelic drugs, such as psilocybin mushrooms and LSD, were once seen merely as a way for college students and concert goers to escape reality or at least enhance it. Now, these drugs are being heavily considered by doctors throughout the world. Atai Life Sciences is a pre-clinical biotech company focused on treating mental illnesses using psychedelic drugs.'}]"
      ]
     },
     "execution_count": 5,
     "metadata": {},
     "output_type": "execute_result"
    }
   ],
   "source": [
    "summarizer(news[1][\"content\"])"
   ]
  },
  {
   "cell_type": "code",
   "execution_count": null,
   "metadata": {},
   "outputs": [],
   "source": [
    "import regex as re\n",
    "import numpy as np  \n",
    "\n",
    "htmlElement = re.compile(r\"<.*?>\")\n",
    "def preprocessTexts(text):\n",
    "    # remove html elements\n",
    "    processed = re.sub(htmlElement, \"\", text)\n",
    "    # remove special chars\n",
    "    processed = re.sub(r\"\\s+|&#[0-9]+;|&nbsp;\", \" \", processed)\n",
    "    processed = re.sub(r\"&amp;\", \"&\", processed)\n",
    "    return processed\n",
    "\n",
    "labelArr = [\"negative\", \"neutral\", \"positive\"]\n",
    "def getLabel(score):\n",
    "    scores = np.array([score[0][\"score\"], score[1][\"score\"], score[2][\"score\"]])\n",
    "    return labelArr[np.argmax(scores)]\n",
    "\n",
    "contentDataset = Dataset.from_dict(dict(\n",
    "    inputs = [preprocessTexts(n[\"content\"]) for n in news] \n",
    "))\n",
    "\n",
    "summaryDataset = Dataset.from_dict(dict(\n",
    "    inputs = [preprocessTexts(n[\"summary\"]) for n in news]\n",
    "))\n",
    "\n",
    "arrContentEmoScore = classifier(contentDataset[\"inputs\"])\n",
    "arrSummaryEmoScore = classifier(summaryDataset[\"inputs\"])\n",
    "arrSummaries = summarizer(contentDataset[\"inputs\"])\n",
    "\n",
    "modelSummaryDataset = Dataset.from_dict(dict(\n",
    "    inputs = [s[\"summary_text\"] for s in arrSummaries]\n",
    "))\n",
    "arrModelSummaryEmoScore = classifier(modelSummaryDataset[\"inputs\"])\n",
    "\n",
    "# processedNews = [{\n",
    "#     \"id\": n[\"id\"],\n",
    "#     \"time\": n[\"created_at\"],\n",
    "#     \"source\": n[\"source\"],\n",
    "#     \"symbols\": \",\".join(n[\"symbols\"]),\n",
    "#     \"relative_weight\": 1/len(n[\"symbols\"]),\n",
    "#     \"title\": n[\"headline\"],\n",
    "#     \"content\": preprocessTexts(n[\"content\"]),\n",
    "#     \"summary\":preprocessTexts(n[\"summary\"]) if len(n[\"summary\"].strip()) > 0 else None,\n",
    "#     \"modelSummary\": summ[\"summary_text\"],\n",
    "#     \"label-summ\": getLabel(summEmo),\n",
    "#     \"negative-summ\": summEmo[0][\"score\"],\n",
    "#     \"neutral-summ\": summEmo[1][\"score\"],\n",
    "#     \"positive-summ\": summEmo[2][\"score\"],\n",
    "\n",
    "#     \"label-content\": getLabel(contentEmo),\n",
    "#     \"negative-content\": contentEmo[0][\"score\"],\n",
    "#     \"neutral-content\": contentEmo[1][\"score\"],\n",
    "#     \"positive-content\": contentEmo[2][\"score\"],\n",
    "\n",
    "#     \"label-model-summ\": getLabel(mdSummEmo),\n",
    "#     \"negative-model-summ\": mdSummEmo[0][\"score\"],\n",
    "#     \"neutral-model-summ\": mdSummEmo[1][\"score\"],\n",
    "#     \"positive-model-summ\": mdSummEmo[2][\"score\"],\n",
    "# } for n, summ, summEmo, contentEmo, mdSummEmo in zip(news, arrSummaries, arrSummaryEmoScore, arrContentEmoScore, arrModelSummaryEmoScore)]\n",
    "\n",
    "\n",
    "processedNews = [{\n",
    "    \"id\": n[\"id\"],\n",
    "    \"time\": n[\"created_at\"],\n",
    "    \"source\": n[\"source\"],\n",
    "    \"symbols\": \",\".join(n[\"symbols\"]),\n",
    "    \"relative_weight\": 1/len(n[\"symbols\"]),\n",
    "    \"title\": n[\"headline\"],\n",
    "    \"content\": preprocessTexts(n[\"content\"]),\n",
    "    \"summary\":preprocessTexts(n[\"summary\"]) if len(n[\"summary\"].strip()) > 0 else None,\n",
    "    \"modelSummary\": summ[\"summary_text\"],\n",
    "    \"label\": getLabel(summEmo),\n",
    "    \"negative\": summEmo[0][\"score\"],\n",
    "    \"neutral\": summEmo[1][\"score\"],\n",
    "    \"positive\": summEmo[2][\"score\"],\n",
    "} for n, summ, summEmo in zip(news, arrSummaries, arrSummaryEmoScore)]"
   ]
  },
  {
   "cell_type": "code",
   "execution_count": 5,
   "metadata": {},
   "outputs": [
    {
     "data": {
      "text/plain": [
       "Text(0.5, 1.0, 'content length')"
      ]
     },
     "execution_count": 5,
     "metadata": {},
     "output_type": "execute_result"
    },
    {
     "data": {
      "image/png": "[encoded data removed]",
      "text/plain": [
       "<Figure size 640x480 with 1 Axes>"
      ]
     },
     "metadata": {},
     "output_type": "display_data"
    }
   ],
   "source": [
    "import seaborn as sns\n",
    "import matplotlib.pyplot as plt\n",
    "import pandas as pd\n",
    "\n",
    "\n",
    "tokenLength = [len(n[\"content\"].split()) for n in processedNews]\n",
    "sns.boxplot(tokenLength).set_title(\"content length\")"
   ]
  },
  {
   "cell_type": "code",
   "execution_count": 6,
   "metadata": {},
   "outputs": [
    {
     "data": {
      "text/html": [
       "<div>\n",
       "<style scoped>\n",
       "    .dataframe tbody tr th:only-of-type {\n",
       "        vertical-align: middle;\n",
       "    }\n",
       "\n",
       "    .dataframe tbody tr th {\n",
       "        vertical-align: top;\n",
       "    }\n",
       "\n",
       "    .dataframe thead th {\n",
       "        text-align: right;\n",
       "    }\n",
       "</style>\n",
       "<table border=\"1\" class=\"dataframe\">\n",
       "  <thead>\n",
       "    <tr style=\"text-align: right;\">\n",
       "      <th></th>\n",
       "      <th>id</th>\n",
       "      <th>time</th>\n",
       "      <th>source</th>\n",
       "      <th>symbols</th>\n",
       "      <th>relative_weight</th>\n",
       "      <th>title</th>\n",
       "      <th>content</th>\n",
       "      <th>summary</th>\n",
       "      <th>modelSummary</th>\n",
       "      <th>label-summ</th>\n",
       "      <th>...</th>\n",
       "      <th>neutral-summ</th>\n",
       "      <th>positive-summ</th>\n",
       "      <th>label-content</th>\n",
       "      <th>negative-content</th>\n",
       "      <th>neutral-content</th>\n",
       "      <th>positive-content</th>\n",
       "      <th>label-model-summ</th>\n",
       "      <th>negative-model-summ</th>\n",
       "      <th>neutral-model-summ</th>\n",
       "      <th>positive-model-summ</th>\n",
       "    </tr>\n",
       "  </thead>\n",
       "  <tbody>\n",
       "    <tr>\n",
       "      <th>0</th>\n",
       "      <td>37670631</td>\n",
       "      <td>2024-03-13T17:35:17Z</td>\n",
       "      <td>benzinga</td>\n",
       "      <td>[AI, AMD, CORZ, INTC, MARA, NVDA, PANW, SMCI, ...</td>\n",
       "      <td>0.100000</td>\n",
       "      <td>10 Information Technology Stocks With Whale Al...</td>\n",
       "      <td>This whale alert can help traders discover the...</td>\n",
       "      <td>None</td>\n",
       "      <td>Whales are entities with large sums of money a...</td>\n",
       "      <td>neutral</td>\n",
       "      <td>...</td>\n",
       "      <td>0.670370</td>\n",
       "      <td>0.270926</td>\n",
       "      <td>neutral</td>\n",
       "      <td>0.009944</td>\n",
       "      <td>0.666299</td>\n",
       "      <td>0.323757</td>\n",
       "      <td>neutral</td>\n",
       "      <td>0.121070</td>\n",
       "      <td>0.847054</td>\n",
       "      <td>0.031876</td>\n",
       "    </tr>\n",
       "    <tr>\n",
       "      <th>1</th>\n",
       "      <td>23838896</td>\n",
       "      <td>2021-11-02T20:43:25Z</td>\n",
       "      <td>benzinga</td>\n",
       "      <td>[ATAI, GME, NVDA, TSLA]</td>\n",
       "      <td>0.250000</td>\n",
       "      <td>This Psychedelics Stock Was Up More Than 20% L...</td>\n",
       "      <td>Psychedelics have picked up more and more mome...</td>\n",
       "      <td>Psychedelics have picked up more and more mome...</td>\n",
       "      <td>Atai Life Sciences is a pre-clinical biotech c...</td>\n",
       "      <td>positive</td>\n",
       "      <td>...</td>\n",
       "      <td>0.137827</td>\n",
       "      <td>0.859917</td>\n",
       "      <td>positive</td>\n",
       "      <td>0.005149</td>\n",
       "      <td>0.195005</td>\n",
       "      <td>0.799846</td>\n",
       "      <td>neutral</td>\n",
       "      <td>0.027130</td>\n",
       "      <td>0.812949</td>\n",
       "      <td>0.159920</td>\n",
       "    </tr>\n",
       "    <tr>\n",
       "      <th>2</th>\n",
       "      <td>37650865</td>\n",
       "      <td>2024-03-13T17:18:05Z</td>\n",
       "      <td>benzinga</td>\n",
       "      <td>[ADIV, AGOV, ASHR, BBEU, BOIL, CQQQ, DBC, EEM,...</td>\n",
       "      <td>0.029412</td>\n",
       "      <td>Asia Markets Down, Europe Rises While Crude Ad...</td>\n",
       "      <td>Editor note: The headline of this story has be...</td>\n",
       "      <td>None</td>\n",
       "      <td>The S ;P 500 closed at a record high on Tuesda...</td>\n",
       "      <td>neutral</td>\n",
       "      <td>...</td>\n",
       "      <td>0.670370</td>\n",
       "      <td>0.270926</td>\n",
       "      <td>neutral</td>\n",
       "      <td>0.016889</td>\n",
       "      <td>0.659207</td>\n",
       "      <td>0.323905</td>\n",
       "      <td>neutral</td>\n",
       "      <td>0.024606</td>\n",
       "      <td>0.561226</td>\n",
       "      <td>0.414168</td>\n",
       "    </tr>\n",
       "    <tr>\n",
       "      <th>3</th>\n",
       "      <td>37662430</td>\n",
       "      <td>2024-03-13T16:21:15Z</td>\n",
       "      <td>benzinga</td>\n",
       "      <td>[AMD, INTC, NVDA, SMCI]</td>\n",
       "      <td>0.250000</td>\n",
       "      <td>AI Tailwinds Boost Super Micro Computer Analys...</td>\n",
       "      <td>Shares of Super Micro Computer Inc (NASDAQ:SMC...</td>\n",
       "      <td>Shares of Super Micro Computer Inc (NASDAQ: SM...</td>\n",
       "      <td>Super Micro Computer (NASDAQ:SMCI) has rallied...</td>\n",
       "      <td>positive</td>\n",
       "      <td>...</td>\n",
       "      <td>0.062146</td>\n",
       "      <td>0.935662</td>\n",
       "      <td>positive</td>\n",
       "      <td>0.003985</td>\n",
       "      <td>0.128980</td>\n",
       "      <td>0.867035</td>\n",
       "      <td>positive</td>\n",
       "      <td>0.002100</td>\n",
       "      <td>0.033885</td>\n",
       "      <td>0.964015</td>\n",
       "    </tr>\n",
       "    <tr>\n",
       "      <th>4</th>\n",
       "      <td>37666432</td>\n",
       "      <td>2024-03-13T15:44:23Z</td>\n",
       "      <td>benzinga</td>\n",
       "      <td>[AAPL, AMZN, BTCUSD, GLD, GOOG, META, MSFT, NV...</td>\n",
       "      <td>0.071429</td>\n",
       "      <td>Nvidia And Gamma Squeeze Overpower Hotter Infl...</td>\n",
       "      <td>To gain an edge, this is what you need to know...</td>\n",
       "      <td>To gain an edge, this is what you need to know...</td>\n",
       "      <td>QQQ ran up in spite of hotter inflation data. ...</td>\n",
       "      <td>neutral</td>\n",
       "      <td>...</td>\n",
       "      <td>0.594776</td>\n",
       "      <td>0.393207</td>\n",
       "      <td>neutral</td>\n",
       "      <td>0.012480</td>\n",
       "      <td>0.699092</td>\n",
       "      <td>0.288428</td>\n",
       "      <td>positive</td>\n",
       "      <td>0.008570</td>\n",
       "      <td>0.184261</td>\n",
       "      <td>0.807170</td>\n",
       "    </tr>\n",
       "  </tbody>\n",
       "</table>\n",
       "<p>5 rows × 21 columns</p>\n",
       "</div>"
      ],
      "text/plain": [
       "         id                  time    source  \\\n",
       "0  37670631  2024-03-13T17:35:17Z  benzinga   \n",
       "1  23838896  2021-11-02T20:43:25Z  benzinga   \n",
       "2  37650865  2024-03-13T17:18:05Z  benzinga   \n",
       "3  37662430  2024-03-13T16:21:15Z  benzinga   \n",
       "4  37666432  2024-03-13T15:44:23Z  benzinga   \n",
       "\n",
       "                                             symbols  relative_weight  \\\n",
       "0  [AI, AMD, CORZ, INTC, MARA, NVDA, PANW, SMCI, ...         0.100000   \n",
       "1                            [ATAI, GME, NVDA, TSLA]         0.250000   \n",
       "2  [ADIV, AGOV, ASHR, BBEU, BOIL, CQQQ, DBC, EEM,...         0.029412   \n",
       "3                            [AMD, INTC, NVDA, SMCI]         0.250000   \n",
       "4  [AAPL, AMZN, BTCUSD, GLD, GOOG, META, MSFT, NV...         0.071429   \n",
       "\n",
       "                                               title  \\\n",
       "0  10 Information Technology Stocks With Whale Al...   \n",
       "1  This Psychedelics Stock Was Up More Than 20% L...   \n",
       "2  Asia Markets Down, Europe Rises While Crude Ad...   \n",
       "3  AI Tailwinds Boost Super Micro Computer Analys...   \n",
       "4  Nvidia And Gamma Squeeze Overpower Hotter Infl...   \n",
       "\n",
       "                                             content  \\\n",
       "0  This whale alert can help traders discover the...   \n",
       "1  Psychedelics have picked up more and more mome...   \n",
       "2  Editor note: The headline of this story has be...   \n",
       "3  Shares of Super Micro Computer Inc (NASDAQ:SMC...   \n",
       "4  To gain an edge, this is what you need to know...   \n",
       "\n",
       "                                             summary  \\\n",
       "0                                               None   \n",
       "1  Psychedelics have picked up more and more mome...   \n",
       "2                                               None   \n",
       "3  Shares of Super Micro Computer Inc (NASDAQ: SM...   \n",
       "4  To gain an edge, this is what you need to know...   \n",
       "\n",
       "                                        modelSummary label-summ  ...  \\\n",
       "0  Whales are entities with large sums of money a...    neutral  ...   \n",
       "1  Atai Life Sciences is a pre-clinical biotech c...   positive  ...   \n",
       "2  The S ;P 500 closed at a record high on Tuesda...    neutral  ...   \n",
       "3  Super Micro Computer (NASDAQ:SMCI) has rallied...   positive  ...   \n",
       "4  QQQ ran up in spite of hotter inflation data. ...    neutral  ...   \n",
       "\n",
       "   neutral-summ  positive-summ  label-content negative-content  \\\n",
       "0      0.670370       0.270926        neutral         0.009944   \n",
       "1      0.137827       0.859917       positive         0.005149   \n",
       "2      0.670370       0.270926        neutral         0.016889   \n",
       "3      0.062146       0.935662       positive         0.003985   \n",
       "4      0.594776       0.393207        neutral         0.012480   \n",
       "\n",
       "   neutral-content  positive-content  label-model-summ negative-model-summ  \\\n",
       "0         0.666299          0.323757           neutral            0.121070   \n",
       "1         0.195005          0.799846           neutral            0.027130   \n",
       "2         0.659207          0.323905           neutral            0.024606   \n",
       "3         0.128980          0.867035          positive            0.002100   \n",
       "4         0.699092          0.288428          positive            0.008570   \n",
       "\n",
       "   neutral-model-summ  positive-model-summ  \n",
       "0            0.847054             0.031876  \n",
       "1            0.812949             0.159920  \n",
       "2            0.561226             0.414168  \n",
       "3            0.033885             0.964015  \n",
       "4            0.184261             0.807170  \n",
       "\n",
       "[5 rows x 21 columns]"
      ]
     },
     "execution_count": 6,
     "metadata": {},
     "output_type": "execute_result"
    }
   ],
   "source": [
    "df = pd.DataFrame(processedNews)\n",
    "df.head()"
   ]
  },
  {
   "cell_type": "code",
   "execution_count": 8,
   "metadata": {},
   "outputs": [
    {
     "data": {
      "text/plain": [
       "<Axes: >"
      ]
     },
     "execution_count": 8,
     "metadata": {},
     "output_type": "execute_result"
    },
    {
     "data": {
      "image/png": "[encoded data removed]",
      "text/plain": [
       "<Figure size 640x480 with 1 Axes>"
      ]
     },
     "metadata": {},
     "output_type": "display_data"
    }
   ],
   "source": [
    "df.relative_weight.plot.box()"
   ]
  },
  {
   "cell_type": "code",
   "execution_count": 9,
   "metadata": {},
   "outputs": [],
   "source": [
    "import datetime\n",
    "df.to_csv(f\"news-{datetime.datetime.now().timestamp()}.csv\", index=False)"
   ]
  },
  {
   "cell_type": "code",
   "execution_count": 7,
   "metadata": {},
   "outputs": [
    {
     "data": {
      "text/plain": [
       "<Axes: >"
      ]
     },
     "execution_count": 7,
     "metadata": {},
     "output_type": "execute_result"
    },
    {
     "data": {
      "image/png": "[encoded data removed]",
      "text/plain": [
       "<Figure size 640x480 with 1 Axes>"
      ]
     },
     "metadata": {},
     "output_type": "display_data"
    }
   ],
   "source": [
    "df[[\"negative-content\", \"neutral-content\", \"positive-content\"]].apply(max, axis=1).plot.box()"
   ]
  },
  {
   "cell_type": "markdown",
   "metadata": {},
   "source": [
    "financial classifier stats:\n",
    "- overall AR = 0.48\n",
    "- summs AR = 0.58\n",
    "- summ-content AR = 0.63\n",
    "- model-summ-content AR= 0.69\n",
    "- max score dist: lower 25th quantile >= 0.95 skewed\n",
    "\n",
    "twitter classifier stats:\n",
    "- overall AR = 0.46\n",
    "- summs AR = 0.58\n",
    "- summ-content AR = 0.71\n",
    "- model-summ-content AR= 0.60\n",
    "- max score dist: 0.5~0.9 normal\n",
    "- no negative prediction on content"
   ]
  },
  {
   "cell_type": "code",
   "execution_count": 18,
   "metadata": {},
   "outputs": [
    {
     "data": {
      "text/plain": [
       "(0.4634146341463415,\n",
       " 0.5853658536585366,\n",
       " 0.7195121951219512,\n",
       " 0.6097560975609756)"
      ]
     },
     "execution_count": 18,
     "metadata": {},
     "output_type": "execute_result"
    }
   ],
   "source": [
    "ar = df.index.map(lambda i: df.loc[i, \"label-summ\"] == df.loc[i, \"label-model-summ\"] == df.loc[i, \"label-content\"]).to_series().mean()\n",
    "summsAR = df.index.map(lambda i: df.loc[i, \"label-summ\"] == df.loc[i, \"label-model-summ\"]).to_series().mean()\n",
    "summContentAr = df.index.map(lambda i: df.loc[i, \"label-summ\"] == df.loc[i, \"label-content\"]).to_series().mean()\n",
    "modelSummContentAr = df.index.map(lambda i: df.loc[i, \"label-model-summ\"] == df.loc[i, \"label-content\"]).to_series().mean()\n",
    "ar, summsAR, summContentAr, modelSummContentAr"
   ]
  },
  {
   "cell_type": "markdown",
   "metadata": {},
   "source": [
    "Check majority class"
   ]
  },
  {
   "cell_type": "code",
   "execution_count": 15,
   "metadata": {},
   "outputs": [
    {
     "data": {
      "text/plain": [
       "2    40\n",
       "1    35\n",
       "0     7\n",
       "Name: count, dtype: int64"
      ]
     },
     "execution_count": 15,
     "metadata": {},
     "output_type": "execute_result"
    }
   ],
   "source": [
    "df[[\"negative-model-summ\",\"neutral-model-summ\",\"positive-model-summ\",]].apply(np.argmax, axis=1).value_counts()"
   ]
  },
  {
   "cell_type": "code",
   "execution_count": 16,
   "metadata": {},
   "outputs": [
    {
     "data": {
      "text/plain": [
       "1    42\n",
       "2    35\n",
       "0     5\n",
       "Name: count, dtype: int64"
      ]
     },
     "execution_count": 16,
     "metadata": {},
     "output_type": "execute_result"
    }
   ],
   "source": [
    "df[[\"negative-summ\",\"neutral-summ\",\"positive-summ\",]].apply(np.argmax, axis=1).value_counts()"
   ]
  },
  {
   "cell_type": "code",
   "execution_count": 17,
   "metadata": {},
   "outputs": [
    {
     "data": {
      "text/plain": [
       "1    53\n",
       "2    29\n",
       "Name: count, dtype: int64"
      ]
     },
     "execution_count": 17,
     "metadata": {},
     "output_type": "execute_result"
    }
   ],
   "source": [
    "df[[\"negative-content\",\"neutral-content\",\"positive-content\",]].apply(np.argmax, axis=1).value_counts()"
   ]
  }
 ],
 "metadata": {
  "kernelspec": {
   "display_name": "Python 3",
   "language": "python",
   "name": "python3"
  },
  "language_info": {
   "codemirror_mode": {
    "name": "ipython",
    "version": 3
   },
   "file_extension": ".py",
   "mimetype": "text/x-python",
   "name": "python",
   "nbconvert_exporter": "python",
   "pygments_lexer": "ipython3",
   "version": "3.9.2rc1"
  },
  "orig_nbformat": 4
 },
 "nbformat": 4,
 "nbformat_minor": 2
}
