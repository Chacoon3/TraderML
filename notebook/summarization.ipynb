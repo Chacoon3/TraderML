{
 "cells": [
  {
   "cell_type": "code",
   "execution_count": 33,
   "metadata": {},
   "outputs": [],
   "source": [
    "from transformers import pipeline, AutoTokenizer\n",
    "from datasets import Dataset"
   ]
  },
  {
   "cell_type": "code",
   "execution_count": 3,
   "metadata": {},
   "outputs": [
    {
     "name": "stderr",
     "output_type": "stream",
     "text": [
      "c:\\Users\\zizh3\\AppData\\Local\\Programs\\Python\\Python39\\lib\\site-packages\\torch\\_utils.py:831: UserWarning: TypedStorage is deprecated. It will be removed in the future and UntypedStorage will be the only storage class. This should only matter to you if you are using storages directly.  To access UntypedStorage directly, use tensor.untyped_storage() instead of tensor.storage()\n",
      "  return self.fget.__get__(instance, owner)()\n",
      "Some weights of the model checkpoint at cardiffnlp/twitter-roberta-base-sentiment-latest were not used when initializing RobertaForSequenceClassification: ['roberta.pooler.dense.bias', 'roberta.pooler.dense.weight']\n",
      "- This IS expected if you are initializing RobertaForSequenceClassification from the checkpoint of a model trained on another task or with another architecture (e.g. initializing a BertForSequenceClassification model from a BertForPreTraining model).\n",
      "- This IS NOT expected if you are initializing RobertaForSequenceClassification from the checkpoint of a model that you expect to be exactly identical (initializing a BertForSequenceClassification model from a BertForSequenceClassification model).\n",
      "c:\\Users\\zizh3\\AppData\\Local\\Programs\\Python\\Python39\\lib\\site-packages\\transformers\\pipelines\\text_classification.py:104: UserWarning: `return_all_scores` is now deprecated,  if want a similar functionality use `top_k=None` instead of `return_all_scores=True` or `top_k=1` instead of `return_all_scores=False`.\n",
      "  warnings.warn(\n"
     ]
    }
   ],
   "source": [
    "twitter = \"cardiffnlp/twitter-roberta-base-sentiment-latest\"\n",
    "financial = \"mrm8488/distilroberta-finetuned-financial-news-sentiment-analysis\"\n",
    "device = \"cuda\"\n",
    "truncate= True\n",
    "\n",
    "classifierConfig = dict(\n",
    "    task = \"text-classification\",\n",
    "    model = twitter,\n",
    "    device = device,\n",
    "    truncation = truncate,\n",
    "    max_length = 512,\n",
    "    return_all_scores = True\n",
    ")\n",
    "\n",
    "classifierConfig2 = dict(\n",
    "    task = \"text-classification\",\n",
    "    model = financial,\n",
    "    device = device,\n",
    "    truncation = truncate,\n",
    "    max_length = 512,\n",
    "    return_all_scores = True\n",
    ")\n",
    "\n",
    "summarizerConfig = dict(\n",
    "    task = \"summarization\",\n",
    "    model = \"facebook/bart-large-cnn\",\n",
    "    device = device,\n",
    "    do_sample = True,\n",
    "    # max_length = 512,\n",
    "    truncation = truncate,\n",
    "    num_beams = 2,\n",
    "    num_return_sequences = 1\n",
    ")\n",
    "\n",
    "classifier = pipeline(**classifierConfig)\n",
    "finClassifier = pipeline(**classifierConfig2)\n",
    "tokenizerClassifier =AutoTokenizer.from_pretrained(twitter, device=\"cuda\")\n",
    "summarizer = pipeline(**summarizerConfig)"
   ]
  },
  {
   "cell_type": "code",
   "execution_count": 11,
   "metadata": {},
   "outputs": [
    {
     "data": {
      "text/plain": [
       "54"
      ]
     },
     "execution_count": 11,
     "metadata": {},
     "output_type": "execute_result"
    }
   ],
   "source": [
    "import requests\n",
    "import json\n",
    "import datetime\n",
    "\n",
    "\n",
    "with open(\"credential\", \"r\") as f:\n",
    "    jsonStr = f.read()\n",
    "    creds = json.loads(jsonStr)\n",
    "\n",
    "\n",
    "def fetchNews(start:datetime.datetime, end:datetime.datetime, symbols:str, limit:int=20, include_content:bool=True, exclude_contentless:bool=True):\n",
    "    newsList = []\n",
    "    startStr = start.strftime(\"%Y-%m-%dT%H:%M:%SZ\")\n",
    "    endStr = end.strftime(\"%Y-%m-%dT%H:%M:%SZ\")\n",
    "    url = f\"https://data.alpaca.markets/v1beta1/news?start={startStr}&end={endStr}&sort=desc&symbols={symbols}&limit={limit}&include_content={include_content}&exclude_contentless={exclude_contentless}\"\n",
    "    headers = {\"accept\": \"application/json\", \"APCA-API-KEY-ID\": creds[\"alpacaPaper\"][0], \"APCA-API-SECRET-KEY\": creds[\"alpacaPaper\"][1]}\n",
    "\n",
    "    resp = requests.get(url, headers=headers)\n",
    "    if resp.status_code != 200:\n",
    "        raise Exception(f\"Failed to fetch news: {resp.status_code} {resp.text}\")\n",
    "    data = resp.json()\n",
    "    news = data.get(\"news\", [])\n",
    "    newsList.extend(news)\n",
    "    next_page_token = data.get(\"next_page_token\", None)\n",
    "    while next_page_token:\n",
    "        url = f\"https://data.alpaca.markets/v1beta1/news?start={startStr}&end={endStr}&sort=desc&symbols={symbols}&limit={limit}&include_content={include_content}&exclude_contentless={exclude_contentless}&page_token={next_page_token}\"\n",
    "        resp = requests.get(url, headers=headers)\n",
    "        if resp.status_code != 200:\n",
    "            raise Exception(f\"Failed to fetch news: {resp.status_code} {resp.text}\")\n",
    "        data = resp.json()\n",
    "        news = data.get(\"news\", [])\n",
    "        newsList.extend(news)\n",
    "        next_page_token = data.get(\"next_page_token\", None)\n",
    "    return newsList\n",
    "\n",
    "import regex as re\n",
    "import numpy as np  \n",
    "\n",
    "htmlElement = re.compile(r\"<.*?>\")\n",
    "def preprocessTexts(text):\n",
    "    # remove html elements\n",
    "    processed = re.sub(htmlElement, \"\", text)\n",
    "    # remove special chars\n",
    "    processed = re.sub(r\"&amp;\", \"&\", processed)\n",
    "    processed = re.sub(r\"\\s+|&#[0-9]+;|&nbsp;\", \" \", processed)\n",
    "    return processed\n",
    "\n",
    "labelArr = [\"negative\", \"neutral\", \"positive\"]\n",
    "def getLabel(score):\n",
    "    scores = np.array([score[0][\"score\"], score[1][\"score\"], score[2][\"score\"]])\n",
    "    return labelArr[np.argmax(scores)]\n",
    "\n",
    "\n",
    "news = fetchNews(datetime.datetime.now()-datetime.timedelta(days=3), datetime.datetime.now(), \"NVDA\", 50, True, True)  \n",
    "len(news)"
   ]
  },
  {
   "cell_type": "code",
   "execution_count": 29,
   "metadata": {},
   "outputs": [
    {
     "data": {
      "text/plain": [
       "10862"
      ]
     },
     "execution_count": 29,
     "metadata": {},
     "output_type": "execute_result"
    }
   ],
   "source": [
    "max([len(n[\"content\"]) for n in news])"
   ]
  },
  {
   "cell_type": "code",
   "execution_count": 31,
   "metadata": {},
   "outputs": [
    {
     "data": {
      "text/plain": [
       "'<p>The stock of <strong>Samsung Electronics Co</strong> (OTC:<a class=\"ticker\" href=\"https://www.benzinga.com/stock/SSNLF#OTC\">SSNLF</a>) experienced a significant surge on Wednesday following reports of interest from <strong>NVIDIA Corp</strong> (NASDAQ:<a class=\"ticker\" href=\"https://www.benzinga.com/stock/NVDA#NASDAQ\">NVDA</a>) in its next-generation high-bandwidth memory (HBM) chips.</p>\\n\\n\\n\\n<p><strong>What Happened</strong>: Samsung Electronics&#8217; shares rose by more than 5% after Nvidia&#8217;s CEO, <strong>Jensen Huang</strong>, hinted at the possibility of using Samsung&#8217;s new HBM chips for its graphics processing units. Huang praised Samsung&#8217;s HBM memory, calling it &#8220;very complicated&#8221; and &#8220;very good,&#8221; <a href=\"https://www.kedglobal.com/korean-chipmakers/newsView/ked202403200013\">reported</a> Korea Economic Daily Wednesday.</p>\\n\\n\\n\\n<p><strong><br></strong>According to the report, Huang said, \"HBM memory is very complicated, and the value added is very high. We are spending a lot of money on HBM.\" </p>\\n\\n\\n\\n<p>Despite the positive remarks, the qualification process does not guarantee purchase. This news comes after Samsung&#8217;s competitor, <strong>SK Hynix</strong>, announced that it would be supplying its HBM chips to Nvidia, which led to a drop in SK Hynix&#8217;s stock by 3.56% on Wednesday.</p>\\n\\n\\n\\n<p><br>HBM, a high-value and high-performance memory chip, comprises vertically interconnected multiple DRAM chips. These chips notably enhance data processing speed compared to standard DRAM products while also reducing latency, power consumption, and physical size.</p>\\n\\n\\n\\n<p><em>See Also: <a href=\"https://www.benzinga.com/markets/cryptocurrency/24/03/37766119/whopping-33-8-million-shifted-to-robinhood-and-people-suspect-this-person-could-be-behind-?itm_source=parsely-api\" target=\"_blank\" rel=\"noreferrer noopener\">Whopping $33.8 Million Worth Of Dogecoin Shifted To Robinhood — And People Suspect This Person Could Be Behind It</a></em></p>\\n\\n\\n\\n<p>The demand for HBM is swiftly escalating due to the critical role of high-performance chips in driving AI technologies like Nvidia&#8217;s GPUs, which are pivotal in the ongoing AI revolution.</p>\\n\\n\\n\\n<p>Samsung&#8217;s competitor, SK Hynix Inc., currently holds an undisputed dominance in the global HBM3 supply, controlling approximately 90% of the market.</p>\\n\\n\\n\\n<p><strong>Why It Matters</strong>: Nvidia&#8217;s interest comes at a time when the chip industry is experiencing significant growth and transformation. During the <a href=\"https://www.benzinga.com/news/24/03/37803088/nvidia-gtc-2024-ceo-huang-highlights-the-past-present-and-future-of-ai-a-new-industry-has-emerged\">GTC 2024 event</a>, Huang highlighted the importance of AI and the role of technology in shaping the future. </p>\\n\\n\\n\\n<p>This was further emphasized by <a href=\"https://www.benzinga.com/news/24/03/37838508/nvidias-jensen-huang-foresees-ai-computing-ramp-to-continue-for-years-were-in-the-beginning\">Huang&#8217;s prediction</a> that the AI computing industry is still in its early stages and is expected to see significant growth in the coming years.</p>\\n\\n\\n\\n<p>Additionally, companies like <strong>Synopsys Inc</strong> (NASDAQ:<a class=\"ticker\" href=\"https://www.benzinga.com/stock/SNPS#NASDAQ\">SNPS</a>) play a crucial role in the chip industry, particularly for Nvidia. Synopsys&#8217; CEO, <strong>Sassine Ghazi</strong>, <a href=\"https://www.benzinga.com/news/24/03/37839355/synopsys-ceo-dives-into-how-they-are-mission-critical-for-nvidia-in-shaping-the-future-of-chip-desig\">highlighted the company&#8217;s significance</a> in the creation of graphics chips that power advanced AI technology. This further underscores the importance of chip manufacturers like Samsung and SK Hynix in the industry.</p>\\n\\n\\n\\n<p><em>Read Next: <a href=\"https://www.benzinga.com/markets/cryptocurrency/24/03/37814393/andrew-tate-says-he-made-85m-on-last-defi-bull-run-meme-coin-thats-great-but-each-bull-run?itm_source=parsely-api\" target=\"_blank\" rel=\"noreferrer noopener\">Andrew Tate Says He Made $85M On Last DeFi Bull Run: &#8216;Meme Coin That&#8217;s Great..But Each Bull Run There..Innovating Blockchain Coins&#8217;</a></em></p>\\n\\n\\n\\n<p>Image Via Shutterstock </p>\\n\\n\\n\\n<div style=\"font-family: \\'Lato\\', sans-serif\">\\n    <div>\\n        <hr style=\"border: 0;height: 5px;background: #225aa9\">\\n        <div style=\"background-color: #f5f5f5;background-position: center;background-size: cover;justify-content: center\"></div>\\n        <p style=\"font-family: sans-serif;padding-top: 20px\">\\n            Engineered by <span style=\"font-weight: bold;text-decoration: none;color: #225aa9;font-size: 1rem\">Benzinga Neuro</span>, Edited by <span style=\"font-weight: bold;text-decoration: none;color: #225aa9;font-size: 1rem\">\\n                <u><a href=\"https://www.benzinga.com/topic/kaustubh-bagalkote\" target=\"_blank\" rel=\"noopener\" style=\"color: #225aa9;text-decoration: none\">Kaustubh Bagalkote</a></u>\\n            </span>\\n        </p>\\n        <hr style=\"border: 0;height: 1px;background: #225aa9\">\\n        <p style=\"font-family: sans-serif;padding-top: 20px\">\\n            The GPT-4-based Benzinga Neuro content generation system exploits the extensive Benzinga Ecosystem, including native data, APIs, and more to create comprehensive and timely stories for you.\\n            <a href=\"https://www.benzinga.com/author/benzinga-neuro\" target=\"_blank\" rel=\"noopener\" style=\"color: #225aa9;text-decoration: none\">Learn more.</a>\\n        </p>\\n        <hr style=\"border: 0;height: 5px;background: #225aa9\">\\n    </div>\\n</div>'"
      ]
     },
     "execution_count": 31,
     "metadata": {},
     "output_type": "execute_result"
    }
   ],
   "source": [
    "news[0][\"content\"]"
   ]
  },
  {
   "cell_type": "code",
   "execution_count": 14,
   "metadata": {},
   "outputs": [
    {
     "data": {
      "text/plain": [
       "['The stock of Samsung Electronics Co (OTC:SSNLF) experienced a significant surge on Wednesday following reports of interest from NVIDIA Corp (NASDAQ:NVDA) in its next-generation high-bandwidth memory (HBM) chips. What Happened: Samsung Electronics  shares rose by more than 5% after Nvidia s CEO, Jensen Huang, hinted at the possibility of using Samsung s new HBM chips for its graphics processing units. Huang praised Samsung s HBM memory, calling it  very complicated  and  very good,  reported Korea Economic Daily Wednesday. According to the report, Huang said, \"HBM memory is very complicated, and the value added is very high. We are spending a lot of money on HBM.\" Despite the positive remarks, the qualification process does not guarantee purchase. This news comes after Samsung s competitor, SK Hynix, announced that it would be supplying its HBM chips to Nvidia, which led to a drop in SK Hynix s stock by 3.56% on Wednesday. HBM, a high-value and high-performance memory chip, comprises vertically interconnected multiple DRAM chips. These chips notably enhance data processing speed compared to standard DRAM products while also reducing latency, power consumption, and physical size. See Also: Whopping $33.8 Million Worth Of Dogecoin Shifted To Robinhood — And People Suspect This Person Could Be Behind It The demand for HBM is swiftly escalating due to the critical role of high-performance chips in driving AI technologies like Nvidia s GPUs, which are pivotal in the ongoing AI revolution. Samsung s competitor, SK Hynix Inc., currently holds an undisputed dominance in the global HBM3 supply, controlling approximately 90% of the market. Why It Matters: Nvidia s interest comes at a time when the chip industry is experiencing significant growth and transformation. During the GTC 2024 event, Huang highlighted the importance of AI and the role of technology in shaping the future. This was further emphasized by Huang s prediction that the AI computing industry is still in its early stages and is expected to see significant growth in the coming years. Additionally, companies like Synopsys Inc (NASDAQ:SNPS) play a crucial role in the chip industry, particularly for Nvidia. Synopsys  CEO, Sassine Ghazi, highlighted the company s significance in the creation of graphics chips that power advanced AI technology. This further underscores the importance of chip manufacturers like Samsung and SK Hynix in the industry. Read Next: Andrew Tate Says He Made $85M On Last DeFi Bull Run:  Meme Coin That s Great..But Each Bull Run There..Innovating Blockchain Coins  Image Via Shutterstock Engineered by Benzinga Neuro, Edited by Kaustubh Bagalkote The GPT-4-based Benzinga Neuro content generation system ']"
      ]
     },
     "execution_count": 14,
     "metadata": {},
     "output_type": "execute_result"
    }
   ],
   "source": [
    "from tokenizers.pre_tokenizers import Whitespace\n",
    "\n",
    "preTokenizer = Whitespace()\n",
    "pretokens = [preTokenizer.pre_tokenize_str(preprocessTexts(n[\"content\"])) for n in news]\n",
    "lengthyIndex = [i for i, p in enumerate(pretokens) if len(p) > 512]\n",
    "\n",
    "def splitAndSummarize(text:str, pretoken:list[tuple[int,int]]):\n",
    "    \"\"\"\n",
    "    greedy split the text into 512 tokens and summarize each split\n",
    "    \"\"\"\n",
    "    count = len(pretoken)\n",
    "    index = 0\n",
    "    lastSplitIndex = 0\n",
    "    prevIndex = index\n",
    "    splits = []\n",
    "    while index < count:\n",
    "        if index - lastSplitIndex > 512:\n",
    "            start = pretoken[lastSplitIndex][1][0]\n",
    "            end = pretoken[prevIndex][1][0]\n",
    "            splits.append(text[start:end])\n",
    "            lastSplitIndex = prevIndex\n",
    "        prevIndex = index\n",
    "        index += 1\n",
    "    return splits\n",
    "\n",
    "splitAndSummarize(preprocessTexts(news[0][\"content\"]), pretokens[0])"
   ]
  },
  {
   "cell_type": "code",
   "execution_count": 15,
   "metadata": {},
   "outputs": [],
   "source": [
    "text = preprocessTexts(news[0][\"content\"])"
   ]
  },
  {
   "cell_type": "code",
   "execution_count": 26,
   "metadata": {},
   "outputs": [
    {
     "data": {
      "text/plain": [
       "ChatCompletion(id='chatcmpl-94rrSwteh7eKGezV2pm4OEmiWsKgy', choices=[Choice(finish_reason='stop', index=0, logprobs=None, message=ChatCompletionMessage(content=\"The news of NVIDIA's interest in Samsung Electronics' new HBM chips could have a potential impact on the stock price of NVDA. NVIDIA's CEO, Jensen Huang, praising Samsung's HBM memory and expressing interest in using it for their GPUs signifies a positive development for Samsung and a potential strategic partnership between the two companies. This could lead to increased demand for Samsung's HBM chips and potentially boost Samsung's stock price.\\n\\nHowever, it is important to note that the qualification process mentioned in the news does not guarantee a purchase by NVIDIA, so the actual impact on NVDA's stock price may be uncertain until a formal agreement is reached between the two companies.\\n\\nThe drop in the stock price of SK Hynix, Samsung's competitor, following the news of NVIDIA's interest in HBM chips could also indicate a shift in market dynamics favoring Samsung, which may positively impact NVDA's stock price as well.\\n\\nOverall, while the news suggests a positive development for NVIDIA and Samsung, investors should monitor further developments, such as any formal agreements or contracts between the companies, to assess the full impact on NVDA's stock price.\", role='assistant', function_call=None, tool_calls=None))], created=1710947382, model='gpt-3.5-turbo-0125', object='chat.completion', system_fingerprint='fp_4f0b692a78', usage=CompletionUsage(completion_tokens=226, prompt_tokens=646, total_tokens=872))"
      ]
     },
     "execution_count": 26,
     "metadata": {},
     "output_type": "execute_result"
    }
   ],
   "source": [
    "from openai import OpenAI\n",
    "\n",
    "client = OpenAI(api_key=creds[\"openai\"][0])\n",
    "\n",
    "response = client.chat.completions.create(\n",
    "  model=\"gpt-3.5-turbo-0125\",\n",
    "  messages=[\n",
    "    {\"role\": \"system\", \"content\": \"You are a financial analyst.\"},\n",
    "    {\"role\": \"user\", \"content\": f\"Does the following news have impact on the stock price of NVDA? Limit your response within 256 words. \\n{text}\"},\n",
    "  ]\n",
    ")\n",
    "\n",
    "response"
   ]
  },
  {
   "cell_type": "code",
   "execution_count": 27,
   "metadata": {},
   "outputs": [
    {
     "data": {
      "text/plain": [
       "\"The news of NVIDIA's interest in Samsung Electronics' new HBM chips could have a potential impact on the stock price of NVDA. NVIDIA's CEO, Jensen Huang, praising Samsung's HBM memory and expressing interest in using it for their GPUs signifies a positive development for Samsung and a potential strategic partnership between the two companies. This could lead to increased demand for Samsung's HBM chips and potentially boost Samsung's stock price.\\n\\nHowever, it is important to note that the qualification process mentioned in the news does not guarantee a purchase by NVIDIA, so the actual impact on NVDA's stock price may be uncertain until a formal agreement is reached between the two companies.\\n\\nThe drop in the stock price of SK Hynix, Samsung's competitor, following the news of NVIDIA's interest in HBM chips could also indicate a shift in market dynamics favoring Samsung, which may positively impact NVDA's stock price as well.\\n\\nOverall, while the news suggests a positive development for NVIDIA and Samsung, investors should monitor further developments, such as any formal agreements or contracts between the companies, to assess the full impact on NVDA's stock price.\""
      ]
     },
     "execution_count": 27,
     "metadata": {},
     "output_type": "execute_result"
    }
   ],
   "source": [
    "response.choices[0].message.content"
   ]
  },
  {
   "cell_type": "code",
   "execution_count": 16,
   "metadata": {},
   "outputs": [
    {
     "data": {
      "text/plain": [
       "[{'summary_text': 'Samsung Electronics shares rose by more than 5% on Wednesday after reports of interest from NVIDIA Corp. Nvidia CEO, Jensen Huang, hinted at the possibility of using Samsung s new HBM chips for its graphics processing units. HBM, a high-value and high-performance memory chip, comprises vertically interconnected multiple DRAM chips. This news comes after Samsung s competitor, SK Hynix, announced that it would be supplying its HBM Chips to Nvidia.'}]"
      ]
     },
     "execution_count": 16,
     "metadata": {},
     "output_type": "execute_result"
    }
   ],
   "source": [
    "summarizer(text)"
   ]
  },
  {
   "cell_type": "code",
   "execution_count": 23,
   "metadata": {},
   "outputs": [
    {
     "data": {
      "text/plain": [
       "[[{'label': 'negative', 'score': 0.00034922242048196495},\n",
       "  {'label': 'neutral', 'score': 9.056922135641798e-05},\n",
       "  {'label': 'positive', 'score': 0.9995601773262024}]]"
      ]
     },
     "execution_count": 23,
     "metadata": {},
     "output_type": "execute_result"
    }
   ],
   "source": [
    "text2 =\"The stock of Samsung Electronics Co experienced a surge after reports of interest from NVIDIA Corp in its next-generation high-bandwidth memory chips. NVIDIA's CEO praised Samsung's HBM chips, hinting at the possibility of using them for its graphics processing units. This news comes after SK Hynix, Samsung's competitor, announced supplying its HBM chips to Nvidia, leading to a drop in SK Hynix's stock. HBM chips enhance data processing speed and reduce power consumption, making them crucial for AI technologies like Nvidia's GPUs. Nvidia's interest in Samsung's chips reflects the significant growth and transformation in the chip industry, particularly in AI computing. Companies like Synopsys play a crucial role in creating chips for advanced AI technology, underscoring the importance of chip manufacturers like Samsung and SK Hynix.\"\n",
    "\n",
    "finClassifier(text2)"
   ]
  },
  {
   "cell_type": "code",
   "execution_count": null,
   "metadata": {},
   "outputs": [],
   "source": [
    "contentDataset = Dataset.from_dict(dict(\n",
    "    inputs = [preprocessTexts(n[\"content\"]) for n in news] \n",
    "))\n",
    "\n",
    "summaryDataset = Dataset.from_dict(dict(\n",
    "    inputs = [preprocessTexts(n[\"summary\"]) for n in news]\n",
    "))\n",
    "\n",
    "arrContentEmoScore = classifier(contentDataset[\"inputs\"])\n",
    "arrContentEmoScore2 = finClassifier(contentDataset[\"inputs\"])\n",
    "arrSummaryEmoScore = classifier(summaryDataset[\"inputs\"])\n",
    "arrSummaries = summarizer(contentDataset[\"inputs\"])\n",
    "\n",
    "modelSummaryDataset = Dataset.from_dict(dict(\n",
    "    inputs = [s[\"summary_text\"] for s in arrSummaries]\n",
    "))\n",
    "arrModelSummaryEmoScore = classifier(modelSummaryDataset[\"inputs\"])\n",
    "\n",
    "processedNews = [{\n",
    "    \"id\": n[\"id\"],\n",
    "    \"time\": n[\"created_at\"],\n",
    "    \"source\": n[\"source\"],\n",
    "    \"symbols\": \",\".join(n[\"symbols\"]),\n",
    "    \"relative_weight\": 1/len(n[\"symbols\"]),\n",
    "    \"title\": n[\"headline\"],\n",
    "    \"content\": preprocessTexts(n[\"content\"]),\n",
    "    \"summary\":preprocessTexts(n[\"summary\"]) if len(n[\"summary\"].strip()) > 0 else None,\n",
    "    \"modelSummary\": summ[\"summary_text\"],\n",
    "    \"label-summ\": getLabel(summEmo),\n",
    "    \"negative-summ\": summEmo[0][\"score\"],\n",
    "    \"neutral-summ\": summEmo[1][\"score\"],\n",
    "    \"positive-summ\": summEmo[2][\"score\"],\n",
    "\n",
    "    \"label-content\": getLabel(contentEmo),\n",
    "    \"negative-content\": contentEmo[0][\"score\"],\n",
    "    \"neutral-content\": contentEmo[1][\"score\"],\n",
    "    \"positive-content\": contentEmo[2][\"score\"],\n",
    "\n",
    "    \"label-content-2\": getLabel(contentEmo2),\n",
    "    \"negative-content-2\": contentEmo2[0][\"score\"],\n",
    "    \"neutral-content-2\": contentEmo2[1][\"score\"],\n",
    "    \"positive-content-2\": contentEmo2[2][\"score\"],\n",
    "\n",
    "    \"label-model-summ\": getLabel(mdSummEmo),\n",
    "    \"negative-model-summ\": mdSummEmo[0][\"score\"],\n",
    "    \"neutral-model-summ\": mdSummEmo[1][\"score\"],\n",
    "    \"positive-model-summ\": mdSummEmo[2][\"score\"],\n",
    "} for n, summ, summEmo, contentEmo, mdSummEmo, contentEmo2 in zip(news, arrSummaries, arrSummaryEmoScore, arrContentEmoScore, arrModelSummaryEmoScore, arrContentEmoScore2)]\n",
    "\n",
    "\n",
    "# processedNews = [{\n",
    "#     \"id\": n[\"id\"],\n",
    "#     \"time\": n[\"created_at\"],\n",
    "#     \"source\": n[\"source\"],\n",
    "#     \"symbols\": \",\".join(n[\"symbols\"]),\n",
    "#     \"relative_weight\": 1/len(n[\"symbols\"]),\n",
    "#     \"title\": n[\"headline\"],\n",
    "#     \"content\": preprocessTexts(n[\"content\"]),\n",
    "#     \"summary\":preprocessTexts(n[\"summary\"]) if len(n[\"summary\"].strip()) > 0 else None,\n",
    "#     \"modelSummary\": summ[\"summary_text\"],\n",
    "#     \"label\": getLabel(summEmo),\n",
    "#     \"negative\": summEmo[0][\"score\"],\n",
    "#     \"neutral\": summEmo[1][\"score\"],\n",
    "#     \"positive\": summEmo[2][\"score\"],\n",
    "# } for n, summ, summEmo in zip(news, arrSummaries, arrSummaryEmoScore)]"
   ]
  },
  {
   "cell_type": "code",
   "execution_count": 7,
   "metadata": {},
   "outputs": [
    {
     "data": {
      "text/plain": [
       "Text(0.5, 1.0, 'content length')"
      ]
     },
     "execution_count": 7,
     "metadata": {},
     "output_type": "execute_result"
    },
    {
     "data": {
      "image/png": "[encoded data removed]",
      "text/plain": [
       "<Figure size 640x480 with 1 Axes>"
      ]
     },
     "metadata": {},
     "output_type": "display_data"
    }
   ],
   "source": [
    "import seaborn as sns\n",
    "import matplotlib.pyplot as plt\n",
    "import pandas as pd\n",
    "\n",
    "\n",
    "tokenLength = [len(n[\"content\"].split()) for n in processedNews]\n",
    "sns.boxplot(tokenLength).set_title(\"content length\")"
   ]
  },
  {
   "cell_type": "code",
   "execution_count": 8,
   "metadata": {},
   "outputs": [
    {
     "data": {
      "text/html": [
       "<div>\n",
       "<style scoped>\n",
       "    .dataframe tbody tr th:only-of-type {\n",
       "        vertical-align: middle;\n",
       "    }\n",
       "\n",
       "    .dataframe tbody tr th {\n",
       "        vertical-align: top;\n",
       "    }\n",
       "\n",
       "    .dataframe thead th {\n",
       "        text-align: right;\n",
       "    }\n",
       "</style>\n",
       "<table border=\"1\" class=\"dataframe\">\n",
       "  <thead>\n",
       "    <tr style=\"text-align: right;\">\n",
       "      <th></th>\n",
       "      <th>id</th>\n",
       "      <th>time</th>\n",
       "      <th>source</th>\n",
       "      <th>symbols</th>\n",
       "      <th>relative_weight</th>\n",
       "      <th>title</th>\n",
       "      <th>content</th>\n",
       "      <th>summary</th>\n",
       "      <th>modelSummary</th>\n",
       "      <th>label-summ</th>\n",
       "      <th>...</th>\n",
       "      <th>neutral-content</th>\n",
       "      <th>positive-content</th>\n",
       "      <th>label-content-2</th>\n",
       "      <th>negative-content-2</th>\n",
       "      <th>neutral-content-2</th>\n",
       "      <th>positive-content-2</th>\n",
       "      <th>label-model-summ</th>\n",
       "      <th>negative-model-summ</th>\n",
       "      <th>neutral-model-summ</th>\n",
       "      <th>positive-model-summ</th>\n",
       "    </tr>\n",
       "  </thead>\n",
       "  <tbody>\n",
       "    <tr>\n",
       "      <th>0</th>\n",
       "      <td>37763876</td>\n",
       "      <td>2024-03-16T01:46:15Z</td>\n",
       "      <td>benzinga</td>\n",
       "      <td>AAPL,NVDA,TSLA</td>\n",
       "      <td>0.333333</td>\n",
       "      <td>'Forced Sale Or Ban' On TikTok Will Impact App...</td>\n",
       "      <td>Deepwater Asset Management s managing partner ...</td>\n",
       "      <td>Gene Munster, managing partner at Deepwater As...</td>\n",
       "      <td>Gene Munster has raised concerns about potenti...</td>\n",
       "      <td>neutral</td>\n",
       "      <td>...</td>\n",
       "      <td>0.812728</td>\n",
       "      <td>0.028164</td>\n",
       "      <td>positive</td>\n",
       "      <td>0.001623</td>\n",
       "      <td>0.009011</td>\n",
       "      <td>0.989366</td>\n",
       "      <td>neutral</td>\n",
       "      <td>0.263879</td>\n",
       "      <td>0.702982</td>\n",
       "      <td>0.033139</td>\n",
       "    </tr>\n",
       "    <tr>\n",
       "      <th>1</th>\n",
       "      <td>37760781</td>\n",
       "      <td>2024-03-15T20:49:41Z</td>\n",
       "      <td>benzinga</td>\n",
       "      <td>NVDA,SMH,SPY,TSM</td>\n",
       "      <td>0.250000</td>\n",
       "      <td>Reddit's WallStreetBets Top Trending Stocks Th...</td>\n",
       "      <td>Retail investors remained enthusiastic on semi...</td>\n",
       "      <td>Retail investors remained enthusiastic on semi...</td>\n",
       "      <td>Nvidia Corporation (NASDAQ:NVDA) was the most ...</td>\n",
       "      <td>positive</td>\n",
       "      <td>...</td>\n",
       "      <td>0.303573</td>\n",
       "      <td>0.692213</td>\n",
       "      <td>positive</td>\n",
       "      <td>0.000195</td>\n",
       "      <td>0.000663</td>\n",
       "      <td>0.999142</td>\n",
       "      <td>positive</td>\n",
       "      <td>0.002871</td>\n",
       "      <td>0.412117</td>\n",
       "      <td>0.585013</td>\n",
       "    </tr>\n",
       "    <tr>\n",
       "      <th>2</th>\n",
       "      <td>37760456</td>\n",
       "      <td>2024-03-15T20:39:37Z</td>\n",
       "      <td>benzinga</td>\n",
       "      <td>AMD,BA,BTCUSD,CCL,MSFT,NVDA,RCL</td>\n",
       "      <td>0.142857</td>\n",
       "      <td>Inflation Rattles Markets Ahead Of Fed Meeting...</td>\n",
       "      <td>Inflation reports unveiled in the week precedi...</td>\n",
       "      <td>Inflation reports unveiled in the week precedi...</td>\n",
       "      <td>Inflation reports unveiled in the week precedi...</td>\n",
       "      <td>negative</td>\n",
       "      <td>...</td>\n",
       "      <td>0.659620</td>\n",
       "      <td>0.039068</td>\n",
       "      <td>negative</td>\n",
       "      <td>0.837385</td>\n",
       "      <td>0.000911</td>\n",
       "      <td>0.161703</td>\n",
       "      <td>negative</td>\n",
       "      <td>0.642624</td>\n",
       "      <td>0.346190</td>\n",
       "      <td>0.011186</td>\n",
       "    </tr>\n",
       "    <tr>\n",
       "      <th>3</th>\n",
       "      <td>37758057</td>\n",
       "      <td>2024-03-15T19:32:22Z</td>\n",
       "      <td>benzinga</td>\n",
       "      <td>AAPL,AVGO,JEPI,META,MSFT,NVDA,QQQI,QYLD,SPYI,T...</td>\n",
       "      <td>0.090909</td>\n",
       "      <td>QQQI: The Undiscovered Nasdaq-100 Covered Call...</td>\n",
       "      <td>A few months ago, I analyzed the total perform...</td>\n",
       "      <td>A few months ago, I analyzed the total perform...</td>\n",
       "      <td>The Nasdaq-100 Index delivered +54.9% returns ...</td>\n",
       "      <td>neutral</td>\n",
       "      <td>...</td>\n",
       "      <td>0.453163</td>\n",
       "      <td>0.538203</td>\n",
       "      <td>positive</td>\n",
       "      <td>0.000208</td>\n",
       "      <td>0.000613</td>\n",
       "      <td>0.999179</td>\n",
       "      <td>positive</td>\n",
       "      <td>0.002859</td>\n",
       "      <td>0.031906</td>\n",
       "      <td>0.965235</td>\n",
       "    </tr>\n",
       "    <tr>\n",
       "      <th>4</th>\n",
       "      <td>37757767</td>\n",
       "      <td>2024-03-15T19:14:18Z</td>\n",
       "      <td>benzinga</td>\n",
       "      <td>AMD,AMZN,AOTG,ARM,BABA,INTC,NVDA,SOXQ</td>\n",
       "      <td>0.125000</td>\n",
       "      <td>AMD's Success in Cloud Expansion - This Analys...</td>\n",
       "      <td>KeyBanc analyst John Vinh maintained an Overwe...</td>\n",
       "      <td>KeyBanc analyst maintains Overweight rating on...</td>\n",
       "      <td>KeyBanc maintains an Overweight rating on Adva...</td>\n",
       "      <td>positive</td>\n",
       "      <td>...</td>\n",
       "      <td>0.557365</td>\n",
       "      <td>0.433582</td>\n",
       "      <td>positive</td>\n",
       "      <td>0.000886</td>\n",
       "      <td>0.000084</td>\n",
       "      <td>0.999031</td>\n",
       "      <td>positive</td>\n",
       "      <td>0.005141</td>\n",
       "      <td>0.313331</td>\n",
       "      <td>0.681528</td>\n",
       "    </tr>\n",
       "  </tbody>\n",
       "</table>\n",
       "<p>5 rows × 25 columns</p>\n",
       "</div>"
      ],
      "text/plain": [
       "         id                  time    source  \\\n",
       "0  37763876  2024-03-16T01:46:15Z  benzinga   \n",
       "1  37760781  2024-03-15T20:49:41Z  benzinga   \n",
       "2  37760456  2024-03-15T20:39:37Z  benzinga   \n",
       "3  37758057  2024-03-15T19:32:22Z  benzinga   \n",
       "4  37757767  2024-03-15T19:14:18Z  benzinga   \n",
       "\n",
       "                                             symbols  relative_weight  \\\n",
       "0                                     AAPL,NVDA,TSLA         0.333333   \n",
       "1                                   NVDA,SMH,SPY,TSM         0.250000   \n",
       "2                    AMD,BA,BTCUSD,CCL,MSFT,NVDA,RCL         0.142857   \n",
       "3  AAPL,AVGO,JEPI,META,MSFT,NVDA,QQQI,QYLD,SPYI,T...         0.090909   \n",
       "4              AMD,AMZN,AOTG,ARM,BABA,INTC,NVDA,SOXQ         0.125000   \n",
       "\n",
       "                                               title  \\\n",
       "0  'Forced Sale Or Ban' On TikTok Will Impact App...   \n",
       "1  Reddit's WallStreetBets Top Trending Stocks Th...   \n",
       "2  Inflation Rattles Markets Ahead Of Fed Meeting...   \n",
       "3  QQQI: The Undiscovered Nasdaq-100 Covered Call...   \n",
       "4  AMD's Success in Cloud Expansion - This Analys...   \n",
       "\n",
       "                                             content  \\\n",
       "0  Deepwater Asset Management s managing partner ...   \n",
       "1  Retail investors remained enthusiastic on semi...   \n",
       "2  Inflation reports unveiled in the week precedi...   \n",
       "3  A few months ago, I analyzed the total perform...   \n",
       "4  KeyBanc analyst John Vinh maintained an Overwe...   \n",
       "\n",
       "                                             summary  \\\n",
       "0  Gene Munster, managing partner at Deepwater As...   \n",
       "1  Retail investors remained enthusiastic on semi...   \n",
       "2  Inflation reports unveiled in the week precedi...   \n",
       "3  A few months ago, I analyzed the total perform...   \n",
       "4  KeyBanc analyst maintains Overweight rating on...   \n",
       "\n",
       "                                        modelSummary label-summ  ...  \\\n",
       "0  Gene Munster has raised concerns about potenti...    neutral  ...   \n",
       "1  Nvidia Corporation (NASDAQ:NVDA) was the most ...   positive  ...   \n",
       "2  Inflation reports unveiled in the week precedi...   negative  ...   \n",
       "3  The Nasdaq-100 Index delivered +54.9% returns ...    neutral  ...   \n",
       "4  KeyBanc maintains an Overweight rating on Adva...   positive  ...   \n",
       "\n",
       "   neutral-content  positive-content  label-content-2 negative-content-2  \\\n",
       "0         0.812728          0.028164         positive           0.001623   \n",
       "1         0.303573          0.692213         positive           0.000195   \n",
       "2         0.659620          0.039068         negative           0.837385   \n",
       "3         0.453163          0.538203         positive           0.000208   \n",
       "4         0.557365          0.433582         positive           0.000886   \n",
       "\n",
       "   neutral-content-2  positive-content-2  label-model-summ  \\\n",
       "0           0.009011            0.989366           neutral   \n",
       "1           0.000663            0.999142          positive   \n",
       "2           0.000911            0.161703          negative   \n",
       "3           0.000613            0.999179          positive   \n",
       "4           0.000084            0.999031          positive   \n",
       "\n",
       "  negative-model-summ  neutral-model-summ  positive-model-summ  \n",
       "0            0.263879            0.702982             0.033139  \n",
       "1            0.002871            0.412117             0.585013  \n",
       "2            0.642624            0.346190             0.011186  \n",
       "3            0.002859            0.031906             0.965235  \n",
       "4            0.005141            0.313331             0.681528  \n",
       "\n",
       "[5 rows x 25 columns]"
      ]
     },
     "execution_count": 8,
     "metadata": {},
     "output_type": "execute_result"
    }
   ],
   "source": [
    "df = pd.DataFrame(processedNews)\n",
    "df.head()"
   ]
  },
  {
   "cell_type": "code",
   "execution_count": 9,
   "metadata": {},
   "outputs": [
    {
     "data": {
      "text/plain": [
       "<Axes: >"
      ]
     },
     "execution_count": 9,
     "metadata": {},
     "output_type": "execute_result"
    },
    {
     "data": {
      "image/png": "[encoded data removed]",
      "text/plain": [
       "<Figure size 640x480 with 1 Axes>"
      ]
     },
     "metadata": {},
     "output_type": "display_data"
    }
   ],
   "source": [
    "df.relative_weight.plot.box()"
   ]
  },
  {
   "cell_type": "code",
   "execution_count": 10,
   "metadata": {},
   "outputs": [],
   "source": [
    "import datetime\n",
    "df.to_csv(f\"news-{datetime.datetime.now().timestamp()}.csv\", index=False)"
   ]
  },
  {
   "cell_type": "code",
   "execution_count": 11,
   "metadata": {},
   "outputs": [
    {
     "data": {
      "text/plain": [
       "<Axes: >"
      ]
     },
     "execution_count": 11,
     "metadata": {},
     "output_type": "execute_result"
    },
    {
     "data": {
      "image/png": "[encoded data removed]",
      "text/plain": [
       "<Figure size 640x480 with 1 Axes>"
      ]
     },
     "metadata": {},
     "output_type": "display_data"
    }
   ],
   "source": [
    "df[[\"negative-content\", \"neutral-content\", \"positive-content\"]].apply(max, axis=1).plot.box()"
   ]
  },
  {
   "cell_type": "markdown",
   "metadata": {},
   "source": [
    "financial classifier stats:\n",
    "- overall AR = 0.48\n",
    "- summs AR = 0.58\n",
    "- summ-content AR = 0.63\n",
    "- model-summ-content AR= 0.69\n",
    "- max score dist: lower 25th quantile >= 0.95 skewed\n",
    "\n",
    "twitter classifier stats:\n",
    "- overall AR = 0.46\n",
    "- summs AR = 0.58\n",
    "- summ-content AR = 0.71\n",
    "- model-summ-content AR= 0.60\n",
    "- max score dist: 0.5~0.9 normal\n",
    "- no negative prediction on content"
   ]
  },
  {
   "cell_type": "code",
   "execution_count": 12,
   "metadata": {},
   "outputs": [
    {
     "data": {
      "text/plain": [
       "(0.41304347826086957,\n",
       " 0.6304347826086957,\n",
       " 0.6086956521739131,\n",
       " 0.5869565217391305)"
      ]
     },
     "execution_count": 12,
     "metadata": {},
     "output_type": "execute_result"
    }
   ],
   "source": [
    "ar = df.index.map(lambda i: df.loc[i, \"label-summ\"] == df.loc[i, \"label-model-summ\"] == df.loc[i, \"label-content\"]).to_series().mean()\n",
    "summsAR = df.index.map(lambda i: df.loc[i, \"label-summ\"] == df.loc[i, \"label-model-summ\"]).to_series().mean()\n",
    "summContentAr = df.index.map(lambda i: df.loc[i, \"label-summ\"] == df.loc[i, \"label-content\"]).to_series().mean()\n",
    "modelSummContentAr = df.index.map(lambda i: df.loc[i, \"label-model-summ\"] == df.loc[i, \"label-content\"]).to_series().mean()\n",
    "ar, summsAR, summContentAr, modelSummContentAr"
   ]
  },
  {
   "cell_type": "markdown",
   "metadata": {},
   "source": [
    "Check majority class"
   ]
  },
  {
   "cell_type": "code",
   "execution_count": 13,
   "metadata": {},
   "outputs": [
    {
     "data": {
      "text/plain": [
       "1    19\n",
       "2    23\n",
       "0     4\n",
       "Name: count, dtype: int64"
      ]
     },
     "execution_count": 13,
     "metadata": {},
     "output_type": "execute_result"
    }
   ],
   "source": [
    "df[[\"negative-model-summ\",\"neutral-model-summ\",\"positive-model-summ\",]].apply(np.argmax, axis=1).value_counts(sort=False)"
   ]
  },
  {
   "cell_type": "code",
   "execution_count": 14,
   "metadata": {},
   "outputs": [
    {
     "data": {
      "text/plain": [
       "1    22\n",
       "2    21\n",
       "0     3\n",
       "Name: count, dtype: int64"
      ]
     },
     "execution_count": 14,
     "metadata": {},
     "output_type": "execute_result"
    }
   ],
   "source": [
    "df[[\"negative-summ\",\"neutral-summ\",\"positive-summ\",]].apply(np.argmax, axis=1).value_counts(sort=False)"
   ]
  },
  {
   "cell_type": "code",
   "execution_count": 15,
   "metadata": {},
   "outputs": [
    {
     "data": {
      "text/plain": [
       "1    30\n",
       "2    16\n",
       "Name: count, dtype: int64"
      ]
     },
     "execution_count": 15,
     "metadata": {},
     "output_type": "execute_result"
    }
   ],
   "source": [
    "df[[\"negative-content\",\"neutral-content\",\"positive-content\",]].apply(np.argmax, axis=1).value_counts(sort=False)"
   ]
  },
  {
   "cell_type": "code",
   "execution_count": 16,
   "metadata": {},
   "outputs": [
    {
     "data": {
      "text/plain": [
       "2    34\n",
       "0     7\n",
       "1     5\n",
       "Name: count, dtype: int64"
      ]
     },
     "execution_count": 16,
     "metadata": {},
     "output_type": "execute_result"
    }
   ],
   "source": [
    "df[[\"negative-content-2\",\"neutral-content-2\",\"positive-content-2\",]].apply(np.argmax, axis=1).value_counts(sort=False)"
   ]
  },
  {
   "cell_type": "markdown",
   "metadata": {},
   "source": [
    "Insights\n",
    "\n",
    "- the twitter model fails to capture negative info from the content probably because it measures more of the wording sentiment rather than the effect to financial operation."
   ]
  }
 ],
 "metadata": {
  "kernelspec": {
   "display_name": "Python 3",
   "language": "python",
   "name": "python3"
  },
  "language_info": {
   "codemirror_mode": {
    "name": "ipython",
    "version": 3
   },
   "file_extension": ".py",
   "mimetype": "text/x-python",
   "name": "python",
   "nbconvert_exporter": "python",
   "pygments_lexer": "ipython3",
   "version": "3.9.2rc1"
  },
  "orig_nbformat": 4
 },
 "nbformat": 4,
 "nbformat_minor": 2
}
